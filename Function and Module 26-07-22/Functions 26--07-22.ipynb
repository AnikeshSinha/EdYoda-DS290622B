{
 "cells": [
  {
   "cell_type": "markdown",
   "id": "133b702c",
   "metadata": {},
   "source": [
    "# `Function` :- A Function is a reusable set of operations."
   ]
  },
  {
   "cell_type": "code",
   "execution_count": 5,
   "id": "c373e00c",
   "metadata": {},
   "outputs": [
    {
     "name": "stdout",
     "output_type": "stream",
     "text": [
      "I'm Bharati Lade\n"
     ]
    }
   ],
   "source": [
    "def bharti_lade(): # No Parameters \n",
    "    print(\"I'm Bharati Lade\")\n",
    "\n",
    "bharti_lade() # Fuction Calling or invoking\n"
   ]
  },
  {
   "cell_type": "code",
   "execution_count": 7,
   "id": "1521a6be",
   "metadata": {},
   "outputs": [
    {
     "name": "stdout",
     "output_type": "stream",
     "text": [
      "I'm Bharati Lade\n",
      "I'm Bharati Lade\n",
      "I'm Bharati Lade\n"
     ]
    }
   ],
   "source": [
    "def bharti_lade(): # No Parameters \n",
    "    print(\"I'm Bharati Lade\")\n",
    "\n",
    "bharti_lade() # Fuction Calling or invoking\n",
    "bharti_lade()\n",
    "bharti_lade()"
   ]
  },
  {
   "cell_type": "code",
   "execution_count": 8,
   "id": "da9dfb02",
   "metadata": {},
   "outputs": [
    {
     "name": "stdout",
     "output_type": "stream",
     "text": [
      "This\n",
      "is\n",
      "A\n",
      "Function\n"
     ]
    }
   ],
   "source": [
    "def my_print_function(): #No parameters\n",
    "    print(\"This\")\n",
    "    print(\"is\")\n",
    "    print(\"A\")\n",
    "    print(\"Function\")\n",
    "# Function Ended\n",
    "\n",
    "my_print_function()"
   ]
  },
  {
   "cell_type": "code",
   "execution_count": 9,
   "id": "01792acd",
   "metadata": {},
   "outputs": [
    {
     "data": {
      "text/plain": [
       "<function __main__.my_print_function()>"
      ]
     },
     "execution_count": 9,
     "metadata": {},
     "output_type": "execute_result"
    }
   ],
   "source": [
    "my_print_function"
   ]
  },
  {
   "cell_type": "markdown",
   "id": "8c3cabda",
   "metadata": {},
   "source": [
    "# `Funtion Parameters`"
   ]
  },
  {
   "cell_type": "code",
   "execution_count": 14,
   "id": "5dfe5e0b",
   "metadata": {},
   "outputs": [],
   "source": [
    "def minimum(first , second):\n",
    "    if (first < second):\n",
    "        print(first)\n",
    "    else:\n",
    "        print(second)"
   ]
  },
  {
   "cell_type": "code",
   "execution_count": 15,
   "id": "77026d80",
   "metadata": {},
   "outputs": [
    {
     "name": "stdout",
     "output_type": "stream",
     "text": [
      "10\n"
     ]
    }
   ],
   "source": [
    "minimum(10, 20) "
   ]
  },
  {
   "cell_type": "code",
   "execution_count": 16,
   "id": "87f7d411",
   "metadata": {},
   "outputs": [
    {
     "name": "stdout",
     "output_type": "stream",
     "text": [
      "10\n"
     ]
    }
   ],
   "source": [
    "a = 10\n",
    "b = 20\n",
    "minimum(a , b)"
   ]
  },
  {
   "cell_type": "markdown",
   "id": "b7869f60",
   "metadata": {},
   "source": [
    "#  The `return` Statement"
   ]
  },
  {
   "cell_type": "code",
   "execution_count": 18,
   "id": "6216fa09",
   "metadata": {},
   "outputs": [
    {
     "data": {
      "text/plain": [
       "4"
      ]
     },
     "execution_count": 18,
     "metadata": {},
     "output_type": "execute_result"
    }
   ],
   "source": [
    "len([1,2,3,4])"
   ]
  },
  {
   "cell_type": "code",
   "execution_count": 22,
   "id": "05550b6e",
   "metadata": {},
   "outputs": [
    {
     "name": "stdout",
     "output_type": "stream",
     "text": [
      "10\n"
     ]
    }
   ],
   "source": [
    "def minimum(f,s):\n",
    "    if (f < s):\n",
    "        return f\n",
    "    return s\n",
    "\n",
    "num1 = 10\n",
    "num2 = 20\n",
    "result = minimum(num1,num2)\n",
    "print(result)"
   ]
  },
  {
   "cell_type": "code",
   "execution_count": 23,
   "id": "043ef151",
   "metadata": {
    "scrolled": true
   },
   "outputs": [
    {
     "name": "stdout",
     "output_type": "stream",
     "text": [
      "10\n"
     ]
    }
   ],
   "source": [
    "def minimum(f,s):\n",
    "    if (f < s):\n",
    "        return f\n",
    "    else:\n",
    "        return s\n",
    "\n",
    "num1 = 10\n",
    "num2 = 20\n",
    "result = minimum(num1,num2)\n",
    "print(result)"
   ]
  },
  {
   "cell_type": "code",
   "execution_count": 27,
   "id": "7af5f175",
   "metadata": {},
   "outputs": [
    {
     "name": "stdout",
     "output_type": "stream",
     "text": [
      "50\n",
      "Red Roses\n"
     ]
    }
   ],
   "source": [
    "def shopkeeper(MoneyDijyea):\n",
    "    if MoneyDijyea == 10:\n",
    "        return \"Lays\"\n",
    "    elif MoneyDijyea == 15:\n",
    "        return \"Ice Creame\"\n",
    "    elif MoneyDijyea == 20:\n",
    "        return \"Nachos\"\n",
    "    elif MoneyDijyea == 30:\n",
    "        return \"Bingo\"\n",
    "    elif MoneyDijyea == 40:\n",
    "        return \"Little Hearts\"\n",
    "    elif MoneyDijyea == 50:\n",
    "        return \"Red Roses\"\n",
    "    elif MoneyDijyea > 50 and rs < 100:\n",
    "        return \"Propose\"\n",
    "    else:\n",
    "        return \"Breakup\"\n",
    "\n",
    "rs = int(input())\n",
    "bag = shopkeeper(rs)\n",
    "print(bag)"
   ]
  },
  {
   "cell_type": "code",
   "execution_count": 28,
   "id": "d18d262e",
   "metadata": {},
   "outputs": [
    {
     "name": "stdout",
     "output_type": "stream",
     "text": [
      "20\n",
      "Nachos\n"
     ]
    },
    {
     "ename": "NameError",
     "evalue": "name 'MoneyDijyea' is not defined",
     "output_type": "error",
     "traceback": [
      "\u001b[1;31m---------------------------------------------------------------------------\u001b[0m",
      "\u001b[1;31mNameError\u001b[0m                                 Traceback (most recent call last)",
      "Input \u001b[1;32mIn [28]\u001b[0m, in \u001b[0;36m<cell line: 22>\u001b[1;34m()\u001b[0m\n\u001b[0;32m     20\u001b[0m bag \u001b[38;5;241m=\u001b[39m shopkeeper(rs)\n\u001b[0;32m     21\u001b[0m \u001b[38;5;28mprint\u001b[39m(bag)\n\u001b[1;32m---> 22\u001b[0m \u001b[38;5;28mprint\u001b[39m(\u001b[43mMoneyDijyea\u001b[49m)\n",
      "\u001b[1;31mNameError\u001b[0m: name 'MoneyDijyea' is not defined"
     ]
    }
   ],
   "source": [
    "def shopkeeper(MoneyDijyea):\n",
    "    if MoneyDijyea == 10:\n",
    "        return \"Lays\"\n",
    "    elif MoneyDijyea == 15:\n",
    "        return \"Ice Creame\"\n",
    "    elif MoneyDijyea == 20:\n",
    "        return \"Nachos\"\n",
    "    elif MoneyDijyea == 30:\n",
    "        return \"Bingo\"\n",
    "    elif MoneyDijyea == 40:\n",
    "        return \"Little Hearts\"\n",
    "    elif MoneyDijyea == 50:\n",
    "        return \"Red Roses\"\n",
    "    elif MoneyDijyea > 50 and rs < 100:\n",
    "        return \"Propose\"\n",
    "    else:\n",
    "        return \"Breakup\"\n",
    "\n",
    "rs = int(input())\n",
    "bag = shopkeeper(rs)\n",
    "print(bag)\n",
    "print(MoneyDijyea)"
   ]
  },
  {
   "cell_type": "code",
   "execution_count": 30,
   "id": "24aee076",
   "metadata": {},
   "outputs": [
    {
     "name": "stdout",
     "output_type": "stream",
     "text": [
      "50\n",
      "printing global Rs here 50 \n",
      "Red Roses\n"
     ]
    }
   ],
   "source": [
    "def shopkeeper(MoneyDijyea):\n",
    "    print(f\"printing global Rs here {rs} \")\n",
    "    if MoneyDijyea == 10:\n",
    "        return \"Lays\"\n",
    "    elif MoneyDijyea == 15:\n",
    "        return \"Ice Creame\"\n",
    "    elif MoneyDijyea == 20:\n",
    "        return \"Nachos\"\n",
    "    elif MoneyDijyea == 30:\n",
    "        return \"Bingo\"\n",
    "    elif MoneyDijyea == 40:\n",
    "        return \"Little Hearts\"\n",
    "    elif MoneyDijyea == 50:\n",
    "        return \"Red Roses\"\n",
    "    elif MoneyDijyea > 50 and rs < 100:\n",
    "        return \"Propose\"\n",
    "    else:\n",
    "        return \"Breakup\"\n",
    "\n",
    "rs = int(input())\n",
    "bag = shopkeeper(rs)\n",
    "print(bag)"
   ]
  },
  {
   "cell_type": "markdown",
   "id": "b69d94e0",
   "metadata": {},
   "source": [
    "#### global and local Exampal"
   ]
  },
  {
   "cell_type": "code",
   "execution_count": 32,
   "id": "98d221db",
   "metadata": {},
   "outputs": [
    {
     "name": "stdout",
     "output_type": "stream",
     "text": [
      "10\n",
      "20\n"
     ]
    }
   ],
   "source": [
    "a = 10\n",
    "def ex_Local_Global(a):\n",
    "    a = 20\n",
    "    print(a)\n",
    "    \n",
    "print(a)\n",
    "ex_Local_Global(a)"
   ]
  },
  {
   "cell_type": "code",
   "execution_count": 5,
   "id": "f5f71330",
   "metadata": {},
   "outputs": [
    {
     "name": "stdout",
     "output_type": "stream",
     "text": [
      "10\n",
      "20\n",
      "10\n",
      "20\n"
     ]
    }
   ],
   "source": [
    "a = 10\n",
    "def ex_Local_Global(a):\n",
    "    a = 20\n",
    "    print(a)\n",
    "    return a\n",
    "    \n",
    "print(a)\n",
    "b = ex_Local_Global(a)\n",
    "print(a)\n",
    "print(b)"
   ]
  },
  {
   "cell_type": "code",
   "execution_count": 6,
   "id": "8fd2a8ba",
   "metadata": {},
   "outputs": [
    {
     "name": "stdout",
     "output_type": "stream",
     "text": [
      "10\n",
      "20\n",
      "20\n"
     ]
    }
   ],
   "source": [
    "a = 10\n",
    "def ex_Local_Global(a):\n",
    "    a = 20\n",
    "    print(a)\n",
    "    return a\n",
    "    \n",
    "print(a)\n",
    "a = ex_Local_Global(a)\n",
    "print(a)"
   ]
  },
  {
   "cell_type": "code",
   "execution_count": 7,
   "id": "ff7d4106",
   "metadata": {},
   "outputs": [
    {
     "name": "stdout",
     "output_type": "stream",
     "text": [
      "10\n",
      "20\n"
     ]
    }
   ],
   "source": [
    "a = 10\n",
    "print(a)\n",
    "a = 20\n",
    "print(a)"
   ]
  },
  {
   "cell_type": "markdown",
   "id": "07fc2984",
   "metadata": {},
   "source": [
    "# `How Function Calling Works`"
   ]
  },
  {
   "cell_type": "code",
   "execution_count": 8,
   "id": "905edaa0",
   "metadata": {},
   "outputs": [],
   "source": [
    "def A():\n",
    "    print('A Start')\n",
    "    B()\n",
    "    print(\"A Ends\")\n",
    "    \n",
    "def B():\n",
    "    print('B Start')\n",
    "    C()\n",
    "    print(\"B Ends\")\n",
    "\n",
    "def C():\n",
    "    print('C Start')\n",
    "    print(\"C Ends\")"
   ]
  },
  {
   "cell_type": "code",
   "execution_count": 9,
   "id": "e9273638",
   "metadata": {
    "scrolled": true
   },
   "outputs": [
    {
     "name": "stdout",
     "output_type": "stream",
     "text": [
      "A Start\n",
      "B Start\n",
      "C Start\n",
      "C Ends\n",
      "B Ends\n",
      "A Ends\n"
     ]
    }
   ],
   "source": [
    "A()"
   ]
  },
  {
   "cell_type": "code",
   "execution_count": 1,
   "id": "39fb3356",
   "metadata": {
    "scrolled": true
   },
   "outputs": [
    {
     "name": "stdout",
     "output_type": "stream",
     "text": [
      "A Start\n"
     ]
    },
    {
     "ename": "NameError",
     "evalue": "name 'B' is not defined",
     "output_type": "error",
     "traceback": [
      "\u001b[1;31m---------------------------------------------------------------------------\u001b[0m",
      "\u001b[1;31mNameError\u001b[0m                                 Traceback (most recent call last)",
      "Input \u001b[1;32mIn [1]\u001b[0m, in \u001b[0;36m<cell line: 6>\u001b[1;34m()\u001b[0m\n\u001b[0;32m      3\u001b[0m     B()\n\u001b[0;32m      4\u001b[0m     \u001b[38;5;28mprint\u001b[39m(\u001b[38;5;124m\"\u001b[39m\u001b[38;5;124mA Ends\u001b[39m\u001b[38;5;124m\"\u001b[39m)\n\u001b[1;32m----> 6\u001b[0m \u001b[43mA\u001b[49m\u001b[43m(\u001b[49m\u001b[43m)\u001b[49m \n\u001b[0;32m      8\u001b[0m \u001b[38;5;28;01mdef\u001b[39;00m \u001b[38;5;21mB\u001b[39m():\n\u001b[0;32m      9\u001b[0m     \u001b[38;5;28mprint\u001b[39m(\u001b[38;5;124m'\u001b[39m\u001b[38;5;124mB Start\u001b[39m\u001b[38;5;124m'\u001b[39m)\n",
      "Input \u001b[1;32mIn [1]\u001b[0m, in \u001b[0;36mA\u001b[1;34m()\u001b[0m\n\u001b[0;32m      1\u001b[0m \u001b[38;5;28;01mdef\u001b[39;00m \u001b[38;5;21mA\u001b[39m():\n\u001b[0;32m      2\u001b[0m     \u001b[38;5;28mprint\u001b[39m(\u001b[38;5;124m'\u001b[39m\u001b[38;5;124mA Start\u001b[39m\u001b[38;5;124m'\u001b[39m)\n\u001b[1;32m----> 3\u001b[0m     \u001b[43mB\u001b[49m()\n\u001b[0;32m      4\u001b[0m     \u001b[38;5;28mprint\u001b[39m(\u001b[38;5;124m\"\u001b[39m\u001b[38;5;124mA Ends\u001b[39m\u001b[38;5;124m\"\u001b[39m)\n",
      "\u001b[1;31mNameError\u001b[0m: name 'B' is not defined"
     ]
    }
   ],
   "source": [
    "def A():\n",
    "    print('A Start')\n",
    "    B()\n",
    "    print(\"A Ends\")\n",
    "    \n",
    "A() \n",
    "\n",
    "def B():\n",
    "    print('B Start')\n",
    "    C()\n",
    "    print(\"B Ends\")\n",
    "\n",
    "def C():\n",
    "    print('C Start')\n",
    "    print(\"C Ends\")"
   ]
  },
  {
   "cell_type": "markdown",
   "id": "80399ae6",
   "metadata": {},
   "source": [
    "# `Positional Aruments`"
   ]
  },
  {
   "cell_type": "code",
   "execution_count": 5,
   "id": "98be0ef0",
   "metadata": {},
   "outputs": [
    {
     "name": "stdout",
     "output_type": "stream",
     "text": [
      "first = 1 , second = 2 , third = 3\n",
      "first = 10 , second = 20 , third = 30\n"
     ]
    }
   ],
   "source": [
    "def demo(first , second , third):\n",
    "    print(f\"first = {first} , second = {second} , third = {third}\")\n",
    "\n",
    "demo(1,2,3)\n",
    "demo(10,20,30)"
   ]
  },
  {
   "cell_type": "markdown",
   "id": "3469e2f9",
   "metadata": {},
   "source": [
    "# `Default Parameters`"
   ]
  },
  {
   "cell_type": "code",
   "execution_count": 7,
   "id": "c53d5cbd",
   "metadata": {},
   "outputs": [
    {
     "name": "stdout",
     "output_type": "stream",
     "text": [
      "first = 1 , second = 20 , third = 40\n",
      "first = 10 , second = 20 , third = 40\n"
     ]
    }
   ],
   "source": [
    "def demo(first , second = 20 , third = 40):\n",
    "    print(f\"first = {first} , second = {second} , third = {third}\")\n",
    "\n",
    "demo(1)\n",
    "demo(10)"
   ]
  },
  {
   "cell_type": "code",
   "execution_count": 8,
   "id": "253eea93",
   "metadata": {
    "scrolled": false
   },
   "outputs": [
    {
     "name": "stdout",
     "output_type": "stream",
     "text": [
      "first = 1 , second = 4 , third = 5\n",
      "first = 10 , second = 50 , third = 20\n"
     ]
    }
   ],
   "source": [
    "def demo(first , second = 20 , third = 40):\n",
    "    print(f\"first = {first} , second = {second} , third = {third}\")\n",
    "\n",
    "demo(1,4, 5)\n",
    "demo(10,50,20)"
   ]
  },
  {
   "cell_type": "code",
   "execution_count": 10,
   "id": "abfb7425",
   "metadata": {},
   "outputs": [
    {
     "name": "stdout",
     "output_type": "stream",
     "text": [
      "first = 1 , second = 50 , third = 40\n"
     ]
    }
   ],
   "source": [
    "def demo(first , second , third = 40):\n",
    "    print(f\"first = {first} , second = {second} , third = {third}\")\n",
    "\n",
    "demo(1,50)"
   ]
  },
  {
   "cell_type": "markdown",
   "id": "1e2be587",
   "metadata": {},
   "source": [
    "# Keyword Arguments (named Arguments)"
   ]
  },
  {
   "cell_type": "code",
   "execution_count": 11,
   "id": "e757b0af",
   "metadata": {},
   "outputs": [
    {
     "name": "stdout",
     "output_type": "stream",
     "text": [
      "first = 20 , second = 100 , third = 50\n"
     ]
    }
   ],
   "source": [
    "def demo(first , second = 20 , third = 40):\n",
    "    print(f\"first = {first} , second = {second} , third = {third}\")\n",
    "\n",
    "demo(20 , third = 50 , second = 100)"
   ]
  },
  {
   "cell_type": "code",
   "execution_count": 12,
   "id": "63adce3c",
   "metadata": {},
   "outputs": [
    {
     "name": "stdout",
     "output_type": "stream",
     "text": [
      "first = 20 , second = 50 , third = 100\n"
     ]
    }
   ],
   "source": [
    "def demo(first , second = 20 , third = 40):\n",
    "    print(f\"first = {first} , second = {second} , third = {third}\")\n",
    "\n",
    "demo(first = 20 , second = 50 , third = 100)"
   ]
  },
  {
   "cell_type": "code",
   "execution_count": 13,
   "id": "edee4583",
   "metadata": {},
   "outputs": [
    {
     "name": "stdout",
     "output_type": "stream",
     "text": [
      "first = 20 , second = 50 , third = 100\n"
     ]
    }
   ],
   "source": [
    "def demo(first , second = 20 , third = 40):\n",
    "    print(f\"first = {first} , second = {second} , third = {third}\")\n",
    "\n",
    "demo( second = 50 , third = 100, first = 20)"
   ]
  },
  {
   "cell_type": "code",
   "execution_count": 14,
   "id": "56201c20",
   "metadata": {},
   "outputs": [
    {
     "name": "stdout",
     "output_type": "stream",
     "text": [
      "first = 20 , second = 50 , third = 100\n",
      "None\n"
     ]
    }
   ],
   "source": [
    "def demo(first , second = 20 , third = 40):\n",
    "    print(f\"first = {first} , second = {second} , third = {third}\")\n",
    "\n",
    "print(demo( second = 50 , third = 100, first = 20))"
   ]
  },
  {
   "cell_type": "code",
   "execution_count": null,
   "id": "2b014169",
   "metadata": {},
   "outputs": [],
   "source": []
  }
 ],
 "metadata": {
  "kernelspec": {
   "display_name": "Python 3 (ipykernel)",
   "language": "python",
   "name": "python3"
  },
  "language_info": {
   "codemirror_mode": {
    "name": "ipython",
    "version": 3
   },
   "file_extension": ".py",
   "mimetype": "text/x-python",
   "name": "python",
   "nbconvert_exporter": "python",
   "pygments_lexer": "ipython3",
   "version": "3.9.12"
  }
 },
 "nbformat": 4,
 "nbformat_minor": 5
}
