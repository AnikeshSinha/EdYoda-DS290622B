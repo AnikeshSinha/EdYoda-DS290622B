{
 "cells": [
  {
   "cell_type": "code",
   "execution_count": null,
   "id": "15057246",
   "metadata": {},
   "outputs": [],
   "source": [
    "Module and Packages ✅\n",
    "lambda, map, filter  \n",
    "List comprehension"
   ]
  },
  {
   "cell_type": "markdown",
   "id": "f3c5e96a",
   "metadata": {},
   "source": [
    "# `Lambda`"
   ]
  },
  {
   "cell_type": "code",
   "execution_count": 1,
   "id": "0da7d41f",
   "metadata": {},
   "outputs": [
    {
     "data": {
      "text/plain": [
       "<function __main__.<lambda>(x)>"
      ]
     },
     "execution_count": 1,
     "metadata": {},
     "output_type": "execute_result"
    }
   ],
   "source": [
    "lambda x : x ** 2"
   ]
  },
  {
   "cell_type": "code",
   "execution_count": 3,
   "id": "6ab05f50",
   "metadata": {},
   "outputs": [],
   "source": [
    "a = lambda x : x ** 2"
   ]
  },
  {
   "cell_type": "code",
   "execution_count": 4,
   "id": "d9062617",
   "metadata": {},
   "outputs": [
    {
     "data": {
      "text/plain": [
       "25"
      ]
     },
     "execution_count": 4,
     "metadata": {},
     "output_type": "execute_result"
    }
   ],
   "source": [
    "a(5)"
   ]
  },
  {
   "cell_type": "code",
   "execution_count": 5,
   "id": "08345e16",
   "metadata": {},
   "outputs": [],
   "source": [
    "def sq(x):\n",
    "    return x ** 2"
   ]
  },
  {
   "cell_type": "code",
   "execution_count": 6,
   "id": "5b6b06c0",
   "metadata": {},
   "outputs": [
    {
     "data": {
      "text/plain": [
       "25"
      ]
     },
     "execution_count": 6,
     "metadata": {},
     "output_type": "execute_result"
    }
   ],
   "source": [
    "sq(5)"
   ]
  },
  {
   "cell_type": "code",
   "execution_count": 7,
   "id": "d1280a11",
   "metadata": {},
   "outputs": [
    {
     "data": {
      "text/plain": [
       "<function __main__.sq(x)>"
      ]
     },
     "execution_count": 7,
     "metadata": {},
     "output_type": "execute_result"
    }
   ],
   "source": [
    "sq"
   ]
  },
  {
   "cell_type": "code",
   "execution_count": 8,
   "id": "9118afc0",
   "metadata": {},
   "outputs": [],
   "source": [
    "add = lambda x,y : x + y"
   ]
  },
  {
   "cell_type": "code",
   "execution_count": 9,
   "id": "e5c8ad8b",
   "metadata": {},
   "outputs": [
    {
     "data": {
      "text/plain": [
       "7"
      ]
     },
     "execution_count": 9,
     "metadata": {},
     "output_type": "execute_result"
    }
   ],
   "source": [
    "add(2 , 5)"
   ]
  },
  {
   "cell_type": "code",
   "execution_count": 10,
   "id": "d608badf",
   "metadata": {},
   "outputs": [],
   "source": [
    "name = lambda : \"hello\""
   ]
  },
  {
   "cell_type": "code",
   "execution_count": 11,
   "id": "8fb72b28",
   "metadata": {},
   "outputs": [
    {
     "data": {
      "text/plain": [
       "'hello'"
      ]
     },
     "execution_count": 11,
     "metadata": {},
     "output_type": "execute_result"
    }
   ],
   "source": [
    "name()"
   ]
  },
  {
   "cell_type": "code",
   "execution_count": 12,
   "id": "11c01c7d",
   "metadata": {},
   "outputs": [],
   "source": [
    "def name():\n",
    "    return \"hello\""
   ]
  },
  {
   "cell_type": "code",
   "execution_count": 13,
   "id": "30e79041",
   "metadata": {},
   "outputs": [
    {
     "data": {
      "text/plain": [
       "'hello'"
      ]
     },
     "execution_count": 13,
     "metadata": {},
     "output_type": "execute_result"
    }
   ],
   "source": [
    "name()"
   ]
  },
  {
   "cell_type": "code",
   "execution_count": 14,
   "id": "b1d7a7dd",
   "metadata": {},
   "outputs": [],
   "source": [
    "name = lambda s: s[::-1].upper()"
   ]
  },
  {
   "cell_type": "code",
   "execution_count": 15,
   "id": "74b54a38",
   "metadata": {},
   "outputs": [
    {
     "data": {
      "text/plain": [
       "'HSIHSA'"
      ]
     },
     "execution_count": 15,
     "metadata": {},
     "output_type": "execute_result"
    }
   ],
   "source": [
    "name('ashish')"
   ]
  },
  {
   "cell_type": "code",
   "execution_count": null,
   "id": "7bb3d38b",
   "metadata": {},
   "outputs": [],
   "source": [
    "lambda x : x = 5 # limitation we can't assign"
   ]
  },
  {
   "cell_type": "code",
   "execution_count": null,
   "id": "114fa991",
   "metadata": {},
   "outputs": [],
   "source": [
    "lambda x : x = x + 5 # No Assignment Allowed inside lambda Expression  No annotations allowed "
   ]
  },
  {
   "cell_type": "code",
   "execution_count": 19,
   "id": "c2fd1abf",
   "metadata": {},
   "outputs": [],
   "source": [
    "def func(x:int):\n",
    "    return x * 2"
   ]
  },
  {
   "cell_type": "code",
   "execution_count": 21,
   "id": "07db7d9a",
   "metadata": {},
   "outputs": [
    {
     "data": {
      "text/plain": [
       "10"
      ]
     },
     "execution_count": 21,
     "metadata": {},
     "output_type": "execute_result"
    }
   ],
   "source": [
    "func(5)"
   ]
  },
  {
   "cell_type": "markdown",
   "id": "2f7ea64b",
   "metadata": {},
   "source": [
    "# map, filter  # Higher order Functions"
   ]
  },
  {
   "cell_type": "code",
   "execution_count": null,
   "id": "7a0ce074",
   "metadata": {},
   "outputs": [],
   "source": [
    "A function that takes a functions as a parameters and/or returns a function as its return value."
   ]
  },
  {
   "cell_type": "code",
   "execution_count": 22,
   "id": "993e13af",
   "metadata": {},
   "outputs": [],
   "source": [
    "def func(x):\n",
    "    return x ** 2"
   ]
  },
  {
   "cell_type": "code",
   "execution_count": 26,
   "id": "e995551c",
   "metadata": {
    "scrolled": true
   },
   "outputs": [
    {
     "data": {
      "text/plain": [
       "[4, 16, 25]"
      ]
     },
     "execution_count": 26,
     "metadata": {},
     "output_type": "execute_result"
    }
   ],
   "source": [
    "l = [2,4,5]\n",
    "list(map(func, l))"
   ]
  },
  {
   "cell_type": "code",
   "execution_count": 27,
   "id": "d1ca9abc",
   "metadata": {},
   "outputs": [
    {
     "data": {
      "text/plain": [
       "[4, 16, 25]"
      ]
     },
     "execution_count": 27,
     "metadata": {},
     "output_type": "execute_result"
    }
   ],
   "source": [
    "t = (2,4,5)\n",
    "list(map(func, t))"
   ]
  },
  {
   "cell_type": "code",
   "execution_count": 29,
   "id": "24cb692d",
   "metadata": {
    "scrolled": true
   },
   "outputs": [
    {
     "data": {
      "text/plain": [
       "[4, 16, 25]"
      ]
     },
     "execution_count": 29,
     "metadata": {},
     "output_type": "execute_result"
    }
   ],
   "source": [
    "s = {2,4,5}\n",
    "list(map(func, s))"
   ]
  },
  {
   "cell_type": "code",
   "execution_count": 30,
   "id": "d8903b2f",
   "metadata": {
    "scrolled": true
   },
   "outputs": [
    {
     "data": {
      "text/plain": [
       "['AA', 'ss', 'hh', 'ii', 'ss', 'hh']"
      ]
     },
     "execution_count": 30,
     "metadata": {},
     "output_type": "execute_result"
    }
   ],
   "source": [
    "st = \"Ashish\"\n",
    "list(map(lambda x: x * 2, st))"
   ]
  },
  {
   "cell_type": "code",
   "execution_count": 31,
   "id": "112d0607",
   "metadata": {},
   "outputs": [
    {
     "data": {
      "text/plain": [
       "['AA', 'ss', 'hh', 'ii', 'ss', 'hh']"
      ]
     },
     "execution_count": 31,
     "metadata": {},
     "output_type": "execute_result"
    }
   ],
   "source": [
    "def stFunc(ch):\n",
    "    return ch * 2\n",
    "\n",
    "st = \"Ashish\"\n",
    "list(map(stFunc, st))"
   ]
  },
  {
   "cell_type": "code",
   "execution_count": 38,
   "id": "3c3942f4",
   "metadata": {
    "scrolled": true
   },
   "outputs": [
    {
     "data": {
      "text/plain": [
       "['A -> Vowel',\n",
       " 's -> Consonent',\n",
       " 'h -> Consonent',\n",
       " 'i -> Vowel',\n",
       " 's -> Consonent',\n",
       " 'h -> Consonent']"
      ]
     },
     "execution_count": 38,
     "metadata": {},
     "output_type": "execute_result"
    }
   ],
   "source": [
    "def vowel(ch):\n",
    "    if ch == 'a' or ch == \"e\"  or ch == \"i\"  or ch == \"o\"  or ch == \"u\"  or ch == \"A\"  or ch == \"E\"  or ch == \"I\"  or ch == \"O\"  or ch == \"U\":\n",
    "        return f\"{ch} -> Vowel\"\n",
    "    else:\n",
    "        return f\"{ch} -> Consonent\"\n",
    "    \n",
    "st = \"Ashish\"\n",
    "list(map(vowel, st))"
   ]
  },
  {
   "cell_type": "code",
   "execution_count": 39,
   "id": "5d180301",
   "metadata": {},
   "outputs": [
    {
     "data": {
      "text/plain": [
       "[5, 5, 4]"
      ]
     },
     "execution_count": 39,
     "metadata": {},
     "output_type": "execute_result"
    }
   ],
   "source": [
    "li = ['apple', 'mango', 'kiwi']\n",
    "list(map(len, li))"
   ]
  },
  {
   "cell_type": "code",
   "execution_count": 51,
   "id": "5cd34c27",
   "metadata": {},
   "outputs": [],
   "source": [
    "def if_even(i):\n",
    "    if i %2 == 0:\n",
    "        return True\n",
    "    else:\n",
    "        return False"
   ]
  },
  {
   "cell_type": "code",
   "execution_count": 44,
   "id": "c23c66c2",
   "metadata": {},
   "outputs": [
    {
     "data": {
      "text/plain": [
       "['True', 'False', 'True', 'False', 'True', 'False']"
      ]
     },
     "execution_count": 44,
     "metadata": {},
     "output_type": "execute_result"
    }
   ],
   "source": [
    "list(map(if_even, [0,1,2,3,4,5]))"
   ]
  },
  {
   "cell_type": "code",
   "execution_count": 52,
   "id": "821db954",
   "metadata": {},
   "outputs": [
    {
     "data": {
      "text/plain": [
       "[0, 2, 4]"
      ]
     },
     "execution_count": 52,
     "metadata": {},
     "output_type": "execute_result"
    }
   ],
   "source": [
    "list(filter(if_even, [0,1,2,3,4,5]))"
   ]
  },
  {
   "cell_type": "code",
   "execution_count": 46,
   "id": "7b4daafd",
   "metadata": {},
   "outputs": [
    {
     "data": {
      "text/plain": [
       "[0, 2, 4]"
      ]
     },
     "execution_count": 46,
     "metadata": {},
     "output_type": "execute_result"
    }
   ],
   "source": [
    "list(filter(lambda x: x%2==0, [0,1,2,3,4,5]))"
   ]
  },
  {
   "cell_type": "code",
   "execution_count": 53,
   "id": "3bd62dc9",
   "metadata": {},
   "outputs": [
    {
     "data": {
      "text/plain": [
       "[True, True, True]"
      ]
     },
     "execution_count": 53,
     "metadata": {},
     "output_type": "execute_result"
    }
   ],
   "source": [
    "li = [True, False, True, False, True, False,]\n",
    "list(filter(None, li))"
   ]
  },
  {
   "cell_type": "code",
   "execution_count": 55,
   "id": "b5bb6a77",
   "metadata": {},
   "outputs": [
    {
     "data": {
      "text/plain": [
       "[True, True, True, 'a']"
      ]
     },
     "execution_count": 55,
     "metadata": {},
     "output_type": "execute_result"
    }
   ],
   "source": [
    "li = [True, False, True, False, True, False,\"\",{},\"a\"]\n",
    "list(filter(lambda x: x, li))"
   ]
  },
  {
   "cell_type": "code",
   "execution_count": 56,
   "id": "916bebb8",
   "metadata": {},
   "outputs": [
    {
     "data": {
      "text/plain": [
       "[4, 9, 16]"
      ]
     },
     "execution_count": 56,
     "metadata": {},
     "output_type": "execute_result"
    }
   ],
   "source": [
    "l = [2,3,4]\n",
    "\n",
    "def sq(x):\n",
    "    return x ** 2\n",
    "\n",
    "list(map(sq, l))"
   ]
  },
  {
   "cell_type": "code",
   "execution_count": 58,
   "id": "c4fbc65d",
   "metadata": {},
   "outputs": [
    {
     "data": {
      "text/plain": [
       "[4, 9, 16]"
      ]
     },
     "execution_count": 58,
     "metadata": {},
     "output_type": "execute_result"
    }
   ],
   "source": [
    "l = [2,3,4]\n",
    "sq1 = [ele**2 for ele in l]\n",
    "sq1"
   ]
  },
  {
   "cell_type": "code",
   "execution_count": 59,
   "id": "9d59a21d",
   "metadata": {},
   "outputs": [
    {
     "name": "stdout",
     "output_type": "stream",
     "text": [
      "[4, 9, 16]\n"
     ]
    }
   ],
   "source": [
    "l = l = [2,3,4]\n",
    "result = []\n",
    "for x in l:\n",
    "    result.append(x**2)\n",
    "print(result)"
   ]
  },
  {
   "cell_type": "code",
   "execution_count": 60,
   "id": "1270132e",
   "metadata": {},
   "outputs": [
    {
     "name": "stdout",
     "output_type": "stream",
     "text": [
      "[4, 9, 16]\n"
     ]
    }
   ],
   "source": [
    "print([ele**2 for ele in [2,3,4]])"
   ]
  },
  {
   "cell_type": "code",
   "execution_count": 61,
   "id": "f1a19765",
   "metadata": {},
   "outputs": [
    {
     "data": {
      "text/plain": [
       "[2, 4, 6, 8]"
      ]
     },
     "execution_count": 61,
     "metadata": {},
     "output_type": "execute_result"
    }
   ],
   "source": [
    "li = [2,3,4,5,6,7,8]\n",
    "list(filter(lambda n: n%2 == 0, li))"
   ]
  },
  {
   "cell_type": "code",
   "execution_count": 62,
   "id": "876c106a",
   "metadata": {},
   "outputs": [
    {
     "data": {
      "text/plain": [
       "[2, 4, 6, 8]"
      ]
     },
     "execution_count": 62,
     "metadata": {},
     "output_type": "execute_result"
    }
   ],
   "source": [
    "li = [2,3,4,5,6,7,8]\n",
    "[ele for ele in li if ele %2 == 0]"
   ]
  },
  {
   "cell_type": "code",
   "execution_count": 63,
   "id": "bab22b4e",
   "metadata": {
    "scrolled": true
   },
   "outputs": [
    {
     "data": {
      "text/plain": [
       "[3, 5, 7]"
      ]
     },
     "execution_count": 63,
     "metadata": {},
     "output_type": "execute_result"
    }
   ],
   "source": [
    "li = [2,3,4,5,6,7,8]\n",
    "[ele for ele in li if ele %2 != 0]"
   ]
  },
  {
   "cell_type": "code",
   "execution_count": null,
   "id": "7ce6e3bd",
   "metadata": {},
   "outputs": [],
   "source": [
    "0-25"
   ]
  },
  {
   "cell_type": "code",
   "execution_count": 66,
   "id": "6a745df9",
   "metadata": {
    "scrolled": true
   },
   "outputs": [
    {
     "data": {
      "text/plain": [
       "[0, 1, 4, 9, 16]"
      ]
     },
     "execution_count": 66,
     "metadata": {},
     "output_type": "execute_result"
    }
   ],
   "source": [
    "[x**2 for x in range(25) if x**2 < 25]"
   ]
  },
  {
   "cell_type": "code",
   "execution_count": 67,
   "id": "a2854ce3",
   "metadata": {},
   "outputs": [
    {
     "data": {
      "text/plain": [
       "[0, 1, 4, 9, 16]"
      ]
     },
     "execution_count": 67,
     "metadata": {},
     "output_type": "execute_result"
    }
   ],
   "source": [
    "l = range(10)\n",
    "list(filter(lambda y: y<25 , map(lambda x: x**2 , l)))"
   ]
  },
  {
   "cell_type": "code",
   "execution_count": 65,
   "id": "dde68a5b",
   "metadata": {},
   "outputs": [
    {
     "data": {
      "text/plain": [
       "[0,\n",
       " 1,\n",
       " 2,\n",
       " 3,\n",
       " 4,\n",
       " 5,\n",
       " 6,\n",
       " 7,\n",
       " 8,\n",
       " 9,\n",
       " 10,\n",
       " 11,\n",
       " 12,\n",
       " 13,\n",
       " 14,\n",
       " 15,\n",
       " 16,\n",
       " 17,\n",
       " 18,\n",
       " 19,\n",
       " 20,\n",
       " 21,\n",
       " 22,\n",
       " 23,\n",
       " 24]"
      ]
     },
     "execution_count": 65,
     "metadata": {},
     "output_type": "execute_result"
    }
   ],
   "source": [
    "list(range(25))"
   ]
  },
  {
   "cell_type": "code",
   "execution_count": null,
   "id": "a78bf684",
   "metadata": {},
   "outputs": [],
   "source": []
  },
  {
   "cell_type": "code",
   "execution_count": 23,
   "id": "c0606390",
   "metadata": {},
   "outputs": [],
   "source": [
    "a = {3,5,1,0,10,25}"
   ]
  },
  {
   "cell_type": "code",
   "execution_count": 24,
   "id": "3f6530e8",
   "metadata": {},
   "outputs": [
    {
     "data": {
      "text/plain": [
       "{0, 1, 3, 5, 10, 25}"
      ]
     },
     "execution_count": 24,
     "metadata": {},
     "output_type": "execute_result"
    }
   ],
   "source": [
    "a"
   ]
  },
  {
   "cell_type": "code",
   "execution_count": null,
   "id": "0ba25759",
   "metadata": {},
   "outputs": [],
   "source": []
  }
 ],
 "metadata": {
  "kernelspec": {
   "display_name": "Python 3 (ipykernel)",
   "language": "python",
   "name": "python3"
  },
  "language_info": {
   "codemirror_mode": {
    "name": "ipython",
    "version": 3
   },
   "file_extension": ".py",
   "mimetype": "text/x-python",
   "name": "python",
   "nbconvert_exporter": "python",
   "pygments_lexer": "ipython3",
   "version": "3.9.12"
  }
 },
 "nbformat": 4,
 "nbformat_minor": 5
}
