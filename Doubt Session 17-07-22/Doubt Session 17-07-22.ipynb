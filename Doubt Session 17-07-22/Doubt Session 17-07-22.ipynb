{
 "cells": [
  {
   "cell_type": "code",
   "execution_count": 1,
   "id": "b956b5de",
   "metadata": {},
   "outputs": [
    {
     "name": "stdout",
     "output_type": "stream",
     "text": [
      "<class 'int'>\n"
     ]
    }
   ],
   "source": [
    "a = 10\n",
    "print(type(a))"
   ]
  },
  {
   "cell_type": "code",
   "execution_count": 2,
   "id": "e161165b",
   "metadata": {},
   "outputs": [
    {
     "ename": "ValueError",
     "evalue": "invalid literal for int() with base 10: 'abc'",
     "output_type": "error",
     "traceback": [
      "\u001b[1;31m---------------------------------------------------------------------------\u001b[0m",
      "\u001b[1;31mValueError\u001b[0m                                Traceback (most recent call last)",
      "Input \u001b[1;32mIn [2]\u001b[0m, in \u001b[0;36m<cell line: 2>\u001b[1;34m()\u001b[0m\n\u001b[0;32m      1\u001b[0m a \u001b[38;5;241m=\u001b[39m \u001b[38;5;124m\"\u001b[39m\u001b[38;5;124mabc\u001b[39m\u001b[38;5;124m\"\u001b[39m\n\u001b[1;32m----> 2\u001b[0m b \u001b[38;5;241m=\u001b[39m \u001b[38;5;28;43mint\u001b[39;49m\u001b[43m(\u001b[49m\u001b[43ma\u001b[49m\u001b[43m)\u001b[49m\n\u001b[0;32m      3\u001b[0m b\n",
      "\u001b[1;31mValueError\u001b[0m: invalid literal for int() with base 10: 'abc'"
     ]
    }
   ],
   "source": [
    "a = \"abc\"\n",
    "b = int(a)\n",
    "b"
   ]
  },
  {
   "cell_type": "code",
   "execution_count": 3,
   "id": "47d0eab8",
   "metadata": {},
   "outputs": [
    {
     "ename": "ValueError",
     "evalue": "invalid literal for int() with base 10: '10.0'",
     "output_type": "error",
     "traceback": [
      "\u001b[1;31m---------------------------------------------------------------------------\u001b[0m",
      "\u001b[1;31mValueError\u001b[0m                                Traceback (most recent call last)",
      "Input \u001b[1;32mIn [3]\u001b[0m, in \u001b[0;36m<cell line: 2>\u001b[1;34m()\u001b[0m\n\u001b[0;32m      1\u001b[0m a \u001b[38;5;241m=\u001b[39m \u001b[38;5;124m\"\u001b[39m\u001b[38;5;124m10.0\u001b[39m\u001b[38;5;124m\"\u001b[39m\n\u001b[1;32m----> 2\u001b[0m b \u001b[38;5;241m=\u001b[39m \u001b[38;5;28;43mint\u001b[39;49m\u001b[43m(\u001b[49m\u001b[43ma\u001b[49m\u001b[43m)\u001b[49m\n\u001b[0;32m      3\u001b[0m b\n",
      "\u001b[1;31mValueError\u001b[0m: invalid literal for int() with base 10: '10.0'"
     ]
    }
   ],
   "source": [
    "a = \"10.0\"\n",
    "b = int(a)\n",
    "b"
   ]
  },
  {
   "cell_type": "code",
   "execution_count": 4,
   "id": "7015257d",
   "metadata": {},
   "outputs": [
    {
     "data": {
      "text/plain": [
       "10"
      ]
     },
     "execution_count": 4,
     "metadata": {},
     "output_type": "execute_result"
    }
   ],
   "source": [
    "a = 10.000\n",
    "b = int(a)\n",
    "b"
   ]
  },
  {
   "cell_type": "code",
   "execution_count": 7,
   "id": "45dad9e0",
   "metadata": {},
   "outputs": [
    {
     "name": "stdout",
     "output_type": "stream",
     "text": [
      "2012273863248\n",
      "2012273863248\n"
     ]
    }
   ],
   "source": [
    "a = 10 \n",
    "print(id(a))\n",
    "b = 10\n",
    "print(id(b))"
   ]
  },
  {
   "cell_type": "code",
   "execution_count": 8,
   "id": "6a4cba66",
   "metadata": {},
   "outputs": [
    {
     "name": "stdout",
     "output_type": "stream",
     "text": [
      "2012273863248\n",
      "2012273863248\n",
      "2012273863280\n"
     ]
    }
   ],
   "source": [
    "a = 10 \n",
    "print(id(a))\n",
    "b = 10\n",
    "print(id(b))\n",
    "b = 11\n",
    "print(id(b))"
   ]
  },
  {
   "cell_type": "markdown",
   "id": "954fd169",
   "metadata": {},
   "source": [
    "# `Booleans`"
   ]
  },
  {
   "cell_type": "code",
   "execution_count": 9,
   "id": "c736bfa5",
   "metadata": {
    "scrolled": true
   },
   "outputs": [
    {
     "name": "stdout",
     "output_type": "stream",
     "text": [
      "<class 'bool'>\n",
      "<class 'bool'>\n"
     ]
    }
   ],
   "source": [
    "a = True\n",
    "b = False\n",
    "print(type(a))\n",
    "print(type(b))"
   ]
  },
  {
   "cell_type": "code",
   "execution_count": 10,
   "id": "59dead92",
   "metadata": {},
   "outputs": [
    {
     "name": "stdout",
     "output_type": "stream",
     "text": [
      "True\n"
     ]
    }
   ],
   "source": [
    "a = 10\n",
    "b = bool(a)\n",
    "print(b)"
   ]
  },
  {
   "cell_type": "code",
   "execution_count": 11,
   "id": "a1bc92ad",
   "metadata": {},
   "outputs": [
    {
     "name": "stdout",
     "output_type": "stream",
     "text": [
      "True\n"
     ]
    }
   ],
   "source": [
    "a = -10\n",
    "b = bool(a)\n",
    "print(b)"
   ]
  },
  {
   "cell_type": "code",
   "execution_count": 12,
   "id": "3fcc7603",
   "metadata": {},
   "outputs": [
    {
     "name": "stdout",
     "output_type": "stream",
     "text": [
      "False\n"
     ]
    }
   ],
   "source": [
    "a = 0\n",
    "b = bool(a)\n",
    "print(b)"
   ]
  },
  {
   "cell_type": "markdown",
   "id": "40080153",
   "metadata": {},
   "source": [
    "# `Logical Operator`"
   ]
  },
  {
   "cell_type": "code",
   "execution_count": 13,
   "id": "aef697c9",
   "metadata": {},
   "outputs": [
    {
     "name": "stdout",
     "output_type": "stream",
     "text": [
      "True\n"
     ]
    }
   ],
   "source": [
    "a = 1 and True\n",
    "print(a)"
   ]
  },
  {
   "cell_type": "code",
   "execution_count": 20,
   "id": "ad47cfde",
   "metadata": {},
   "outputs": [
    {
     "name": "stdout",
     "output_type": "stream",
     "text": [
      "False\n"
     ]
    }
   ],
   "source": [
    "a = (0 and True)\n",
    "print(bool(a))"
   ]
  },
  {
   "cell_type": "code",
   "execution_count": 18,
   "id": "d3e3d2ea",
   "metadata": {},
   "outputs": [
    {
     "name": "stdout",
     "output_type": "stream",
     "text": [
      "True\n"
     ]
    }
   ],
   "source": [
    "a = 1 and True or 0 and True\n",
    "print(a)"
   ]
  },
  {
   "cell_type": "code",
   "execution_count": 16,
   "id": "a3c4e428",
   "metadata": {},
   "outputs": [
    {
     "name": "stdout",
     "output_type": "stream",
     "text": [
      "True\n"
     ]
    }
   ],
   "source": [
    "a = 1 and True or 0 and 0\n",
    "print(a)"
   ]
  },
  {
   "cell_type": "code",
   "execution_count": 22,
   "id": "a97a59ee",
   "metadata": {},
   "outputs": [
    {
     "name": "stdout",
     "output_type": "stream",
     "text": [
      "True\n"
     ]
    }
   ],
   "source": [
    "a = (\"suraj\" and \"lanmax\")\n",
    "print(bool(a))"
   ]
  },
  {
   "cell_type": "code",
   "execution_count": 23,
   "id": "d80ff1ec",
   "metadata": {},
   "outputs": [
    {
     "data": {
      "text/plain": [
       "True"
      ]
     },
     "execution_count": 23,
     "metadata": {},
     "output_type": "execute_result"
    }
   ],
   "source": [
    "a = bool(\"suraj\")\n",
    "a"
   ]
  },
  {
   "cell_type": "code",
   "execution_count": 24,
   "id": "f8d65d7c",
   "metadata": {},
   "outputs": [
    {
     "data": {
      "text/plain": [
       "False"
      ]
     },
     "execution_count": 24,
     "metadata": {},
     "output_type": "execute_result"
    }
   ],
   "source": [
    "a = bool(\"\")\n",
    "a"
   ]
  },
  {
   "cell_type": "code",
   "execution_count": 26,
   "id": "8986515f",
   "metadata": {},
   "outputs": [
    {
     "data": {
      "text/plain": [
       "True"
      ]
     },
     "execution_count": 26,
     "metadata": {},
     "output_type": "execute_result"
    }
   ],
   "source": [
    "a = bool([100])\n",
    "a"
   ]
  },
  {
   "cell_type": "code",
   "execution_count": 27,
   "id": "6004c947",
   "metadata": {},
   "outputs": [
    {
     "name": "stdout",
     "output_type": "stream",
     "text": [
      "True\n"
     ]
    }
   ],
   "source": [
    "a = (\"suraj\" or \"\")\n",
    "print(bool(a))"
   ]
  },
  {
   "cell_type": "markdown",
   "id": "ce6cb711",
   "metadata": {},
   "source": [
    "# `Conditionals`"
   ]
  },
  {
   "cell_type": "markdown",
   "id": "a79a5af1",
   "metadata": {},
   "source": [
    "### `IF ELSE`"
   ]
  },
  {
   "cell_type": "code",
   "execution_count": 29,
   "id": "24b5a3a3",
   "metadata": {},
   "outputs": [
    {
     "name": "stdout",
     "output_type": "stream",
     "text": [
      "I'm Inside if Block Because I Get the Golden Pass.\n"
     ]
    }
   ],
   "source": [
    "a = True\n",
    "if a:\n",
    "    print(\"I'm Inside if Block Because I Get the Golden Pass.\")\n",
    "else:\n",
    "    print(\"I'm inside Else Block Because i didn't get the Golden Pass\")"
   ]
  },
  {
   "cell_type": "code",
   "execution_count": 30,
   "id": "513aa970",
   "metadata": {},
   "outputs": [
    {
     "name": "stdout",
     "output_type": "stream",
     "text": [
      "I'm inside Else Block Because i didn't get the Golden Pass\n"
     ]
    }
   ],
   "source": [
    "a = False\n",
    "if a:\n",
    "    print(\"I'm Inside if Block Because I Get the Golden Pass.\")\n",
    "else:\n",
    "    print(\"I'm inside Else Block Because i didn't get the Golden Pass\")"
   ]
  },
  {
   "cell_type": "code",
   "execution_count": 31,
   "id": "2bb3b831",
   "metadata": {},
   "outputs": [
    {
     "name": "stdout",
     "output_type": "stream",
     "text": [
      "I'm Inside if Block Because I Get the Golden Pass.\n",
      "I am inside if 2\n"
     ]
    }
   ],
   "source": [
    "a = True\n",
    "if a:\n",
    "    print(\"I'm Inside if Block Because I Get the Golden Pass.\")\n",
    "    print(\"I am inside if 2\")\n",
    "else:\n",
    "    print(\"I'm inside Else Block Because i didn't get the Golden Pass\")"
   ]
  },
  {
   "cell_type": "code",
   "execution_count": 32,
   "id": "63993ddd",
   "metadata": {},
   "outputs": [
    {
     "name": "stdout",
     "output_type": "stream",
     "text": [
      "4\n",
      "Yes number is EVEN\n"
     ]
    }
   ],
   "source": [
    "# Check number to be odd or even\n",
    "\n",
    "n = int(input()) # it takes input form user\n",
    "rem = n % 2\n",
    "is_even = (rem == 0)\n",
    "\n",
    "if is_even:\n",
    "    print(\"Yes number is EVEN\")\n",
    "else:\n",
    "    print(\"N is ODD\")"
   ]
  },
  {
   "cell_type": "code",
   "execution_count": 33,
   "id": "971261b4",
   "metadata": {},
   "outputs": [
    {
     "data": {
      "text/plain": [
       "0"
      ]
     },
     "execution_count": 33,
     "metadata": {},
     "output_type": "execute_result"
    }
   ],
   "source": [
    "4 % 2"
   ]
  },
  {
   "cell_type": "code",
   "execution_count": 36,
   "id": "7dda9f74",
   "metadata": {},
   "outputs": [
    {
     "name": "stdout",
     "output_type": "stream",
     "text": [
      "4\n",
      "Yes number is EVEN\n"
     ]
    }
   ],
   "source": [
    "n = int(input()) # it takes input form user\n",
    "is_even = ( n %2 == 0 )\n",
    "\n",
    "if is_even:\n",
    "    print(\"Yes number is EVEN\")\n",
    "else:\n",
    "    print(\"N is ODD\")"
   ]
  },
  {
   "cell_type": "code",
   "execution_count": 38,
   "id": "4544cfe6",
   "metadata": {},
   "outputs": [
    {
     "name": "stdout",
     "output_type": "stream",
     "text": [
      "5\n",
      "N is ODD\n"
     ]
    }
   ],
   "source": [
    "n = int(input()) # it takes input form user\n",
    "if n %2 == 0:\n",
    "    print(\"Yes number is EVEN\")\n",
    "else:\n",
    "    print(\"N is ODD\")"
   ]
  },
  {
   "cell_type": "code",
   "execution_count": 40,
   "id": "4ba8b4fe",
   "metadata": {},
   "outputs": [
    {
     "name": "stdout",
     "output_type": "stream",
     "text": [
      "5\n",
      "N is ODD\n"
     ]
    }
   ],
   "source": [
    "n = int(input()) # it takes input form user\n",
    "print(\"Yes number is EVEN\" if n %2 == 0 else \"N is ODD\")"
   ]
  },
  {
   "cell_type": "code",
   "execution_count": 41,
   "id": "f9fd4e10",
   "metadata": {},
   "outputs": [
    {
     "name": "stdout",
     "output_type": "stream",
     "text": [
      "5\n"
     ]
    }
   ],
   "source": [
    "print(2+3 if True else 5+10)"
   ]
  },
  {
   "cell_type": "code",
   "execution_count": 42,
   "id": "fc6b79d8",
   "metadata": {},
   "outputs": [
    {
     "name": "stdout",
     "output_type": "stream",
     "text": [
      "15\n"
     ]
    }
   ],
   "source": [
    "print(2+3 if False else 5+10)"
   ]
  },
  {
   "cell_type": "code",
   "execution_count": 44,
   "id": "9826f9c6",
   "metadata": {},
   "outputs": [
    {
     "name": "stdout",
     "output_type": "stream",
     "text": [
      "15\n"
     ]
    }
   ],
   "source": [
    "print(0+0 if False else 5+10)"
   ]
  },
  {
   "cell_type": "code",
   "execution_count": 43,
   "id": "09e846cf",
   "metadata": {},
   "outputs": [
    {
     "data": {
      "text/plain": [
       "0"
      ]
     },
     "execution_count": 43,
     "metadata": {},
     "output_type": "execute_result"
    }
   ],
   "source": [
    "0+0"
   ]
  },
  {
   "cell_type": "code",
   "execution_count": 46,
   "id": "26ca3278",
   "metadata": {},
   "outputs": [
    {
     "ename": "SyntaxError",
     "evalue": "invalid syntax (1033879468.py, line 1)",
     "output_type": "error",
     "traceback": [
      "\u001b[1;36m  Input \u001b[1;32mIn [46]\u001b[1;36m\u001b[0m\n\u001b[1;33m    print(2+3 if True)\u001b[0m\n\u001b[1;37m                     ^\u001b[0m\n\u001b[1;31mSyntaxError\u001b[0m\u001b[1;31m:\u001b[0m invalid syntax\n"
     ]
    }
   ],
   "source": [
    "print(2+3 if True)"
   ]
  },
  {
   "cell_type": "code",
   "execution_count": 47,
   "id": "95eba491",
   "metadata": {},
   "outputs": [
    {
     "name": "stdout",
     "output_type": "stream",
     "text": [
      "6\n"
     ]
    }
   ],
   "source": [
    "if True:\n",
    "    print(2+4)"
   ]
  },
  {
   "cell_type": "markdown",
   "id": "42a656d5",
   "metadata": {},
   "source": [
    "# `IF-ELIF-ELSE`"
   ]
  },
  {
   "cell_type": "code",
   "execution_count": 49,
   "id": "1994130e",
   "metadata": {},
   "outputs": [
    {
     "name": "stdout",
     "output_type": "stream",
     "text": [
      "4\n",
      "5\n",
      "6\n",
      "6 c is greater\n"
     ]
    }
   ],
   "source": [
    "#FINDING lARGEST\n",
    "\n",
    "a = int(input())\n",
    "b = int(input())\n",
    "c = int(input())\n",
    "\n",
    "if a >= b and a >= c:\n",
    "    print(f\"{a} a is greater\")\n",
    "elif b >= a and b >= c:\n",
    "    print(f\"{b} b is greater\")\n",
    "elif c >= a and c >= b:\n",
    "    print(f\"{c} c is greater\")"
   ]
  },
  {
   "cell_type": "code",
   "execution_count": 50,
   "id": "09f92682",
   "metadata": {},
   "outputs": [
    {
     "name": "stdout",
     "output_type": "stream",
     "text": [
      "4\n",
      "5\n",
      "6\n",
      "6 c is greater\n"
     ]
    }
   ],
   "source": [
    "a = int(input())\n",
    "b = int(input())\n",
    "c = int(input())\n",
    "\n",
    "if a >= b and a >= c:\n",
    "    print(f\"{a} a is greater\")\n",
    "elif b >= a and b >= c:\n",
    "    print(f\"{b} b is greater\")\n",
    "else:\n",
    "    print(f\"{c} c is greater\")"
   ]
  },
  {
   "cell_type": "code",
   "execution_count": 54,
   "id": "02e08179",
   "metadata": {},
   "outputs": [
    {
     "name": "stdout",
     "output_type": "stream",
     "text": [
      "4\n",
      "Yellow\n"
     ]
    }
   ],
   "source": [
    "n = int(input())\n",
    "\n",
    "if n >= 10:\n",
    "    print(\"red\")\n",
    "elif n >= 5:\n",
    "    print(\"Green\")\n",
    "elif n > 0:\n",
    "    print(\"Yellow\")"
   ]
  },
  {
   "cell_type": "code",
   "execution_count": 58,
   "id": "c2f59f9b",
   "metadata": {},
   "outputs": [
    {
     "name": "stdout",
     "output_type": "stream",
     "text": [
      "10\n",
      "Red\n"
     ]
    }
   ],
   "source": [
    "n = int(input())\n",
    "\n",
    "if n >= 0 and n < 5:\n",
    "    print(\"Yellow\")\n",
    "elif n >= 5 and n < 10:\n",
    "    print(\"Green\")\n",
    "elif n >= 10:\n",
    "    print(\"Red\")"
   ]
  },
  {
   "cell_type": "markdown",
   "id": "128b76b8",
   "metadata": {},
   "source": [
    "# `Nested IF Else`"
   ]
  },
  {
   "cell_type": "code",
   "execution_count": 61,
   "id": "e72602c8",
   "metadata": {},
   "outputs": [
    {
     "name": "stdout",
     "output_type": "stream",
     "text": [
      "5\n",
      "4\n",
      "n is odd\n"
     ]
    }
   ],
   "source": [
    "n = int(input())\n",
    "m = int(input())\n",
    "\n",
    "if n % 2 == 0:\n",
    "    if m % 2 == 0:\n",
    "        print(\"both n and m are even number\")\n",
    "    else:\n",
    "        print(\"n is Even but m is odd\")\n",
    "else:\n",
    "    print(\"n is odd\")"
   ]
  },
  {
   "cell_type": "code",
   "execution_count": null,
   "id": "ec0f0bab",
   "metadata": {},
   "outputs": [],
   "source": []
  }
 ],
 "metadata": {
  "kernelspec": {
   "display_name": "Python 3 (ipykernel)",
   "language": "python",
   "name": "python3"
  },
  "language_info": {
   "codemirror_mode": {
    "name": "ipython",
    "version": 3
   },
   "file_extension": ".py",
   "mimetype": "text/x-python",
   "name": "python",
   "nbconvert_exporter": "python",
   "pygments_lexer": "ipython3",
   "version": "3.9.12"
  }
 },
 "nbformat": 4,
 "nbformat_minor": 5
}
