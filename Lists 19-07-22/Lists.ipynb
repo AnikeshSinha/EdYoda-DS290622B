{
 "cells": [
  {
   "cell_type": "code",
   "execution_count": null,
   "id": "e24ffd9b",
   "metadata": {},
   "outputs": [],
   "source": [
    "Sub-Topics\n",
    "\n",
    "delete operations in lists\n",
    "sort,index,count in lists\n",
    "insert in lists"
   ]
  },
  {
   "cell_type": "code",
   "execution_count": 1,
   "id": "e2ab8137",
   "metadata": {},
   "outputs": [],
   "source": [
    "li = []"
   ]
  },
  {
   "cell_type": "code",
   "execution_count": 2,
   "id": "c00db4f5",
   "metadata": {},
   "outputs": [],
   "source": [
    "li = [1,2,3]"
   ]
  },
  {
   "cell_type": "code",
   "execution_count": 4,
   "id": "9761a76b",
   "metadata": {},
   "outputs": [],
   "source": [
    "li = [1, \"Rakesh\",True, 2.45 , {1:\"hello\"},(1,2,3,4), [\"Rakesh\",True, 2.45]]"
   ]
  },
  {
   "cell_type": "code",
   "execution_count": 5,
   "id": "1a9668b5",
   "metadata": {},
   "outputs": [
    {
     "data": {
      "text/plain": [
       "[1, 'Rakesh', True, 2.45, {1: 'hello'}, (1, 2, 3, 4), ['Rakesh', True, 2.45]]"
      ]
     },
     "execution_count": 5,
     "metadata": {},
     "output_type": "execute_result"
    }
   ],
   "source": [
    "li"
   ]
  },
  {
   "cell_type": "markdown",
   "id": "a1b60f3a",
   "metadata": {},
   "source": [
    "# 'Access and Change Element in List'"
   ]
  },
  {
   "cell_type": "code",
   "execution_count": 6,
   "id": "3d5933ac",
   "metadata": {},
   "outputs": [
    {
     "data": {
      "text/plain": [
       "1"
      ]
     },
     "execution_count": 6,
     "metadata": {},
     "output_type": "execute_result"
    }
   ],
   "source": [
    "li[0]"
   ]
  },
  {
   "cell_type": "code",
   "execution_count": 7,
   "id": "8b4042d8",
   "metadata": {},
   "outputs": [
    {
     "data": {
      "text/plain": [
       "'Rakesh'"
      ]
     },
     "execution_count": 7,
     "metadata": {},
     "output_type": "execute_result"
    }
   ],
   "source": [
    "li[1]"
   ]
  },
  {
   "cell_type": "code",
   "execution_count": 15,
   "id": "c35cbdf4",
   "metadata": {},
   "outputs": [],
   "source": [
    "li = [1, \"Rakesh\",True, 2.45 , {1:\"hello\"},(1,2,3,4), [\"This Rakesh Inner list\",True, 3.45]]"
   ]
  },
  {
   "cell_type": "code",
   "execution_count": 16,
   "id": "4610964c",
   "metadata": {},
   "outputs": [
    {
     "data": {
      "text/plain": [
       "(1, 2, 3, 4)"
      ]
     },
     "execution_count": 16,
     "metadata": {},
     "output_type": "execute_result"
    }
   ],
   "source": [
    "li[5]"
   ]
  },
  {
   "cell_type": "code",
   "execution_count": 17,
   "id": "8f4f91f7",
   "metadata": {},
   "outputs": [
    {
     "data": {
      "text/plain": [
       "['This Rakesh Inner list', True, 3.45]"
      ]
     },
     "execution_count": 17,
     "metadata": {},
     "output_type": "execute_result"
    }
   ],
   "source": [
    "li[6]"
   ]
  },
  {
   "cell_type": "code",
   "execution_count": 18,
   "id": "0469f28e",
   "metadata": {},
   "outputs": [
    {
     "data": {
      "text/plain": [
       "'This Rakesh Inner list'"
      ]
     },
     "execution_count": 18,
     "metadata": {},
     "output_type": "execute_result"
    }
   ],
   "source": [
    "li[6][0]"
   ]
  },
  {
   "cell_type": "code",
   "execution_count": 19,
   "id": "eaabcbe4",
   "metadata": {},
   "outputs": [
    {
     "data": {
      "text/plain": [
       "3.45"
      ]
     },
     "execution_count": 19,
     "metadata": {},
     "output_type": "execute_result"
    }
   ],
   "source": [
    "li[6][2]"
   ]
  },
  {
   "cell_type": "code",
   "execution_count": 20,
   "id": "794f7d61",
   "metadata": {},
   "outputs": [
    {
     "ename": "IndexError",
     "evalue": "list index out of range",
     "output_type": "error",
     "traceback": [
      "\u001b[1;31m---------------------------------------------------------------------------\u001b[0m",
      "\u001b[1;31mIndexError\u001b[0m                                Traceback (most recent call last)",
      "Input \u001b[1;32mIn [20]\u001b[0m, in \u001b[0;36m<cell line: 1>\u001b[1;34m()\u001b[0m\n\u001b[1;32m----> 1\u001b[0m \u001b[43mli\u001b[49m\u001b[43m[\u001b[49m\u001b[38;5;241;43m6\u001b[39;49m\u001b[43m]\u001b[49m\u001b[43m[\u001b[49m\u001b[38;5;241;43m3\u001b[39;49m\u001b[43m]\u001b[49m\n",
      "\u001b[1;31mIndexError\u001b[0m: list index out of range"
     ]
    }
   ],
   "source": [
    "li[6][3]"
   ]
  },
  {
   "cell_type": "markdown",
   "id": "c4719955",
   "metadata": {},
   "source": [
    "# `Slicing of A List`"
   ]
  },
  {
   "cell_type": "code",
   "execution_count": 21,
   "id": "a4090dcd",
   "metadata": {},
   "outputs": [],
   "source": [
    "li = [1, \"Rakesh\",True, 2.45 , {1:\"hello\"},(1,2,3,4), [\"This Rakesh Inner list\",True, 3.45]]"
   ]
  },
  {
   "cell_type": "code",
   "execution_count": 22,
   "id": "4dcef865",
   "metadata": {},
   "outputs": [
    {
     "data": {
      "text/plain": [
       "['Rakesh', True, 2.45, {1: 'hello'}]"
      ]
     },
     "execution_count": 22,
     "metadata": {},
     "output_type": "execute_result"
    }
   ],
   "source": [
    "li[1:5]"
   ]
  },
  {
   "cell_type": "code",
   "execution_count": 23,
   "id": "c785ebc1",
   "metadata": {},
   "outputs": [
    {
     "data": {
      "text/plain": [
       "['Rakesh', True, 2.45, {1: 'hello'}, (1, 2, 3, 4)]"
      ]
     },
     "execution_count": 23,
     "metadata": {},
     "output_type": "execute_result"
    }
   ],
   "source": [
    "li[1:6]"
   ]
  },
  {
   "cell_type": "code",
   "execution_count": 24,
   "id": "69b3e71b",
   "metadata": {},
   "outputs": [
    {
     "data": {
      "text/plain": [
       "['Rakesh',\n",
       " True,\n",
       " 2.45,\n",
       " {1: 'hello'},\n",
       " (1, 2, 3, 4),\n",
       " ['This Rakesh Inner list', True, 3.45]]"
      ]
     },
     "execution_count": 24,
     "metadata": {},
     "output_type": "execute_result"
    }
   ],
   "source": [
    "li[1:]"
   ]
  },
  {
   "cell_type": "code",
   "execution_count": 25,
   "id": "a50f26aa",
   "metadata": {},
   "outputs": [
    {
     "data": {
      "text/plain": [
       "[1,\n",
       " 'Rakesh',\n",
       " True,\n",
       " 2.45,\n",
       " {1: 'hello'},\n",
       " (1, 2, 3, 4),\n",
       " ['This Rakesh Inner list', True, 3.45]]"
      ]
     },
     "execution_count": 25,
     "metadata": {},
     "output_type": "execute_result"
    }
   ],
   "source": [
    "li[:]"
   ]
  },
  {
   "cell_type": "code",
   "execution_count": 26,
   "id": "e903e085",
   "metadata": {},
   "outputs": [
    {
     "data": {
      "text/plain": [
       "[1,\n",
       " 'Rakesh',\n",
       " True,\n",
       " 2.45,\n",
       " {1: 'hello'},\n",
       " (1, 2, 3, 4),\n",
       " ['This Rakesh Inner list', True, 3.45]]"
      ]
     },
     "execution_count": 26,
     "metadata": {},
     "output_type": "execute_result"
    }
   ],
   "source": [
    "li[:10]"
   ]
  },
  {
   "cell_type": "markdown",
   "id": "da0f4547",
   "metadata": {},
   "source": [
    "# `Insert and Append Elements in List`"
   ]
  },
  {
   "cell_type": "markdown",
   "id": "0e082253",
   "metadata": {},
   "source": [
    "### `Append`"
   ]
  },
  {
   "cell_type": "markdown",
   "id": "7a6e502f",
   "metadata": {},
   "source": [
    "### append()\tAdds an element at the end of the list"
   ]
  },
  {
   "cell_type": "markdown",
   "id": "195f9ebd",
   "metadata": {},
   "source": [
    "### Definition and Usage\n",
    "The append() method appends an element to the end of the list.\n",
    "\n",
    "Syntax\n",
    "\n",
    "    list.append(elmnt)\n",
    "\n",
    "elmnt\tRequired. An element of any type (string, number, object etc.)"
   ]
  },
  {
   "cell_type": "code",
   "execution_count": 121,
   "id": "b87b54d9",
   "metadata": {},
   "outputs": [],
   "source": [
    "li = [1,2,3,4,5,6,7]"
   ]
  },
  {
   "cell_type": "code",
   "execution_count": 28,
   "id": "b4614422",
   "metadata": {},
   "outputs": [],
   "source": [
    "li.append(\"Suraj\")"
   ]
  },
  {
   "cell_type": "code",
   "execution_count": 29,
   "id": "18dfa5dc",
   "metadata": {},
   "outputs": [
    {
     "data": {
      "text/plain": [
       "[1, 2, 3, 4, 5, 6, 7, 'Suraj']"
      ]
     },
     "execution_count": 29,
     "metadata": {},
     "output_type": "execute_result"
    }
   ],
   "source": [
    "li"
   ]
  },
  {
   "cell_type": "code",
   "execution_count": 31,
   "id": "2e45332d",
   "metadata": {},
   "outputs": [
    {
     "ename": "TypeError",
     "evalue": "list.append() takes exactly one argument (3 given)",
     "output_type": "error",
     "traceback": [
      "\u001b[1;31m---------------------------------------------------------------------------\u001b[0m",
      "\u001b[1;31mTypeError\u001b[0m                                 Traceback (most recent call last)",
      "Input \u001b[1;32mIn [31]\u001b[0m, in \u001b[0;36m<cell line: 1>\u001b[1;34m()\u001b[0m\n\u001b[1;32m----> 1\u001b[0m \u001b[43mli\u001b[49m\u001b[38;5;241;43m.\u001b[39;49m\u001b[43mappend\u001b[49m\u001b[43m(\u001b[49m\u001b[38;5;241;43m100\u001b[39;49m\u001b[43m,\u001b[49m\u001b[38;5;241;43m2000\u001b[39;49m\u001b[43m,\u001b[49m\u001b[38;5;124;43m\"\u001b[39;49m\u001b[38;5;124;43mAshish\u001b[39;49m\u001b[38;5;124;43m\"\u001b[39;49m\u001b[43m)\u001b[49m\n",
      "\u001b[1;31mTypeError\u001b[0m: list.append() takes exactly one argument (3 given)"
     ]
    }
   ],
   "source": [
    "li.append(100,2000,\"Ashish\")"
   ]
  },
  {
   "cell_type": "code",
   "execution_count": 32,
   "id": "287a76cf",
   "metadata": {},
   "outputs": [],
   "source": [
    "li.append([100,2000,\"Ashish\"])"
   ]
  },
  {
   "cell_type": "code",
   "execution_count": 33,
   "id": "58a361de",
   "metadata": {},
   "outputs": [
    {
     "data": {
      "text/plain": [
       "[1, 2, 3, 4, 5, 6, 7, 'Suraj', [100, 2000, 'Ashish']]"
      ]
     },
     "execution_count": 33,
     "metadata": {},
     "output_type": "execute_result"
    }
   ],
   "source": [
    "li"
   ]
  },
  {
   "cell_type": "code",
   "execution_count": 34,
   "id": "f0e108d9",
   "metadata": {},
   "outputs": [],
   "source": [
    "li.append({1:\"Yes\"})"
   ]
  },
  {
   "cell_type": "code",
   "execution_count": 35,
   "id": "87c6385d",
   "metadata": {},
   "outputs": [
    {
     "data": {
      "text/plain": [
       "[1, 2, 3, 4, 5, 6, 7, 'Suraj', [100, 2000, 'Ashish'], {1: 'Yes'}]"
      ]
     },
     "execution_count": 35,
     "metadata": {},
     "output_type": "execute_result"
    }
   ],
   "source": [
    "li"
   ]
  },
  {
   "cell_type": "markdown",
   "id": "72ab8d91",
   "metadata": {},
   "source": [
    "# .insert() #method"
   ]
  },
  {
   "cell_type": "markdown",
   "id": "7c990395",
   "metadata": {},
   "source": [
    "### insert()\tAdds an element at the specified position"
   ]
  },
  {
   "cell_type": "markdown",
   "id": "8019be3c",
   "metadata": {},
   "source": [
    "### Definition and Usage\n",
    "The insert() method inserts the specified value at the specified position.\n",
    "\n",
    "Syntax\n",
    "    \n",
    "    list.insert(pos, elmnt)\n",
    "\n",
    "elmnt\tRequired. An element of any type (string, number, object etc.)"
   ]
  },
  {
   "cell_type": "code",
   "execution_count": 36,
   "id": "ab0d4efe",
   "metadata": {},
   "outputs": [],
   "source": [
    "li1 = li"
   ]
  },
  {
   "cell_type": "code",
   "execution_count": 37,
   "id": "9c2b0609",
   "metadata": {},
   "outputs": [
    {
     "data": {
      "text/plain": [
       "[1, 2, 3, 4, 5, 6, 7, 'Suraj', [100, 2000, 'Ashish'], {1: 'Yes'}]"
      ]
     },
     "execution_count": 37,
     "metadata": {},
     "output_type": "execute_result"
    }
   ],
   "source": [
    "li1"
   ]
  },
  {
   "cell_type": "code",
   "execution_count": 38,
   "id": "62fc4315",
   "metadata": {},
   "outputs": [],
   "source": [
    "li1.insert(0, \"Insert\")"
   ]
  },
  {
   "cell_type": "code",
   "execution_count": 39,
   "id": "cf9a9a3b",
   "metadata": {},
   "outputs": [
    {
     "data": {
      "text/plain": [
       "['Insert', 1, 2, 3, 4, 5, 6, 7, 'Suraj', [100, 2000, 'Ashish'], {1: 'Yes'}]"
      ]
     },
     "execution_count": 39,
     "metadata": {},
     "output_type": "execute_result"
    }
   ],
   "source": [
    "li1"
   ]
  },
  {
   "cell_type": "code",
   "execution_count": 40,
   "id": "f16a4fe5",
   "metadata": {},
   "outputs": [],
   "source": [
    "li1.insert(3, \"Deepak\")"
   ]
  },
  {
   "cell_type": "code",
   "execution_count": 41,
   "id": "a3ca9438",
   "metadata": {},
   "outputs": [
    {
     "data": {
      "text/plain": [
       "['Insert',\n",
       " 1,\n",
       " 2,\n",
       " 'Deepak',\n",
       " 3,\n",
       " 4,\n",
       " 5,\n",
       " 6,\n",
       " 7,\n",
       " 'Suraj',\n",
       " [100, 2000, 'Ashish'],\n",
       " {1: 'Yes'}]"
      ]
     },
     "execution_count": 41,
     "metadata": {},
     "output_type": "execute_result"
    }
   ],
   "source": [
    "li1"
   ]
  },
  {
   "cell_type": "markdown",
   "id": "178adaf7",
   "metadata": {},
   "source": [
    "### .extend() #method"
   ]
  },
  {
   "cell_type": "markdown",
   "id": "cb88a32e",
   "metadata": {},
   "source": [
    "### extend()\tAdd the elements of a list (or any iterable), to the end of the current list"
   ]
  },
  {
   "cell_type": "markdown",
   "id": "adbfd2db",
   "metadata": {},
   "source": [
    "### Definition and Usage\n",
    "The extend() method adds the specified list elements (or any iterable) to the end of the current list.\n",
    "\n",
    "Syntax\n",
    "\n",
    "    list.extend(iterable)\n",
    "    \n",
    "iterable\tRequired. Any iterable (list, set, tuple, etc.)"
   ]
  },
  {
   "cell_type": "code",
   "execution_count": 43,
   "id": "64bf5476",
   "metadata": {},
   "outputs": [],
   "source": [
    "li1.extend([10,11,23])"
   ]
  },
  {
   "cell_type": "code",
   "execution_count": 44,
   "id": "93b5d827",
   "metadata": {},
   "outputs": [
    {
     "data": {
      "text/plain": [
       "['Insert',\n",
       " 1,\n",
       " 2,\n",
       " 'Deepak',\n",
       " 3,\n",
       " 4,\n",
       " 5,\n",
       " 6,\n",
       " 7,\n",
       " 'Suraj',\n",
       " [100, 2000, 'Ashish'],\n",
       " {1: 'Yes'},\n",
       " 10,\n",
       " 11,\n",
       " 23]"
      ]
     },
     "execution_count": 44,
     "metadata": {},
     "output_type": "execute_result"
    }
   ],
   "source": [
    "li1"
   ]
  },
  {
   "cell_type": "markdown",
   "id": "305e4fa9",
   "metadata": {},
   "source": [
    "### .remove() #method"
   ]
  },
  {
   "cell_type": "markdown",
   "id": "12f21208",
   "metadata": {},
   "source": [
    "### remove()\tRemoves the item with the specified value"
   ]
  },
  {
   "cell_type": "markdown",
   "id": "d1177fca",
   "metadata": {},
   "source": [
    "### Definition and Usage\n",
    "The remove() method removes the first occurrence of the element with the specified value.\n",
    "\n",
    "Syntax\n",
    "\n",
    "    list.remove(elmnt)\n",
    "    \n",
    "elmnt\tRequired. Any type (string, number, list etc.) The element you want to remove"
   ]
  },
  {
   "cell_type": "code",
   "execution_count": 45,
   "id": "e6883e7f",
   "metadata": {},
   "outputs": [],
   "source": [
    "li = [8,9,10,1,3,4,5]"
   ]
  },
  {
   "cell_type": "code",
   "execution_count": 46,
   "id": "11e05f2b",
   "metadata": {},
   "outputs": [],
   "source": [
    "li.remove(10)"
   ]
  },
  {
   "cell_type": "code",
   "execution_count": 47,
   "id": "91cb7c38",
   "metadata": {},
   "outputs": [
    {
     "data": {
      "text/plain": [
       "[8, 9, 1, 3, 4, 5]"
      ]
     },
     "execution_count": 47,
     "metadata": {},
     "output_type": "execute_result"
    }
   ],
   "source": [
    "li"
   ]
  },
  {
   "cell_type": "code",
   "execution_count": 48,
   "id": "15aeb16f",
   "metadata": {},
   "outputs": [],
   "source": [
    "li.remove(8)"
   ]
  },
  {
   "cell_type": "code",
   "execution_count": 49,
   "id": "b42fc0c7",
   "metadata": {},
   "outputs": [
    {
     "data": {
      "text/plain": [
       "[9, 1, 3, 4, 5]"
      ]
     },
     "execution_count": 49,
     "metadata": {},
     "output_type": "execute_result"
    }
   ],
   "source": [
    "li"
   ]
  },
  {
   "cell_type": "markdown",
   "id": "bd49b8d4",
   "metadata": {},
   "source": [
    "### .pop #method"
   ]
  },
  {
   "cell_type": "markdown",
   "id": "9dfdcd3d",
   "metadata": {},
   "source": [
    "### pop()\tRemoves the element at the specified position"
   ]
  },
  {
   "cell_type": "markdown",
   "id": "65a68985",
   "metadata": {},
   "source": [
    "### Definition and Usage\n",
    "The pop() method removes the element at the specified position.\n",
    "\n",
    "Syntax\n",
    "\n",
    "    list.pop(pos)\n",
    "    \n",
    "pos\tOptional. A number specifying the position of the element you want to remove, default value is -1, which returns the last item"
   ]
  },
  {
   "cell_type": "markdown",
   "id": "0cdb0a75",
   "metadata": {},
   "source": [
    "#### `Note: The pop() method returns removed value.`"
   ]
  },
  {
   "cell_type": "code",
   "execution_count": 50,
   "id": "6a41bc91",
   "metadata": {},
   "outputs": [],
   "source": [
    "li = [8,9,10,1,3,4,5]"
   ]
  },
  {
   "cell_type": "code",
   "execution_count": 52,
   "id": "d0c27510",
   "metadata": {},
   "outputs": [
    {
     "data": {
      "text/plain": [
       "4"
      ]
     },
     "execution_count": 52,
     "metadata": {},
     "output_type": "execute_result"
    }
   ],
   "source": [
    "li.pop()"
   ]
  },
  {
   "cell_type": "code",
   "execution_count": 53,
   "id": "7f2b08fa",
   "metadata": {},
   "outputs": [
    {
     "data": {
      "text/plain": [
       "[8, 9, 10, 1, 3]"
      ]
     },
     "execution_count": 53,
     "metadata": {},
     "output_type": "execute_result"
    }
   ],
   "source": [
    "li"
   ]
  },
  {
   "cell_type": "code",
   "execution_count": 54,
   "id": "9119b6f3",
   "metadata": {},
   "outputs": [
    {
     "data": {
      "text/plain": [
       "8"
      ]
     },
     "execution_count": 54,
     "metadata": {},
     "output_type": "execute_result"
    }
   ],
   "source": [
    "li.pop(0)"
   ]
  },
  {
   "cell_type": "code",
   "execution_count": 55,
   "id": "a788684b",
   "metadata": {},
   "outputs": [],
   "source": [
    "li = [8,9,10,1,3,4,5]"
   ]
  },
  {
   "cell_type": "code",
   "execution_count": 59,
   "id": "c06e9a5b",
   "metadata": {},
   "outputs": [
    {
     "ename": "TypeError",
     "evalue": "list.remove() takes exactly one argument (2 given)",
     "output_type": "error",
     "traceback": [
      "\u001b[1;31m---------------------------------------------------------------------------\u001b[0m",
      "\u001b[1;31mTypeError\u001b[0m                                 Traceback (most recent call last)",
      "Input \u001b[1;32mIn [59]\u001b[0m, in \u001b[0;36m<cell line: 1>\u001b[1;34m()\u001b[0m\n\u001b[1;32m----> 1\u001b[0m \u001b[43mli\u001b[49m\u001b[38;5;241;43m.\u001b[39;49m\u001b[43mremove\u001b[49m\u001b[43m(\u001b[49m\u001b[38;5;241;43m9\u001b[39;49m\u001b[43m,\u001b[49m\u001b[38;5;241;43m10\u001b[39;49m\u001b[43m)\u001b[49m\n",
      "\u001b[1;31mTypeError\u001b[0m: list.remove() takes exactly one argument (2 given)"
     ]
    }
   ],
   "source": [
    "li.remove(9,10)"
   ]
  },
  {
   "cell_type": "code",
   "execution_count": 60,
   "id": "e14f50a1",
   "metadata": {},
   "outputs": [],
   "source": [
    "del li[1:3]"
   ]
  },
  {
   "cell_type": "code",
   "execution_count": 61,
   "id": "9975a16e",
   "metadata": {},
   "outputs": [
    {
     "data": {
      "text/plain": [
       "[8, 1, 3, 4, 5]"
      ]
     },
     "execution_count": 61,
     "metadata": {},
     "output_type": "execute_result"
    }
   ],
   "source": [
    "li"
   ]
  },
  {
   "cell_type": "code",
   "execution_count": 63,
   "id": "9c648312",
   "metadata": {},
   "outputs": [],
   "source": [
    "del li[1]"
   ]
  },
  {
   "cell_type": "code",
   "execution_count": 64,
   "id": "7d250183",
   "metadata": {},
   "outputs": [
    {
     "data": {
      "text/plain": [
       "[8, 4, 5]"
      ]
     },
     "execution_count": 64,
     "metadata": {},
     "output_type": "execute_result"
    }
   ],
   "source": [
    "li"
   ]
  },
  {
   "cell_type": "code",
   "execution_count": 65,
   "id": "d4cba20b",
   "metadata": {},
   "outputs": [],
   "source": [
    "li = [8,9,10,1,3,4,5]"
   ]
  },
  {
   "cell_type": "code",
   "execution_count": 67,
   "id": "f286d965",
   "metadata": {},
   "outputs": [],
   "source": [
    "del li[2]"
   ]
  },
  {
   "cell_type": "code",
   "execution_count": 68,
   "id": "8efcb71a",
   "metadata": {},
   "outputs": [
    {
     "data": {
      "text/plain": [
       "[8, 9, 1, 3, 4, 5]"
      ]
     },
     "execution_count": 68,
     "metadata": {},
     "output_type": "execute_result"
    }
   ],
   "source": [
    "li"
   ]
  },
  {
   "cell_type": "code",
   "execution_count": 69,
   "id": "7c66ba8e",
   "metadata": {},
   "outputs": [],
   "source": [
    "li = [8,9,10,1,3,4,5]"
   ]
  },
  {
   "cell_type": "code",
   "execution_count": 70,
   "id": "b381585a",
   "metadata": {},
   "outputs": [
    {
     "data": {
      "text/plain": [
       "5"
      ]
     },
     "execution_count": 70,
     "metadata": {},
     "output_type": "execute_result"
    }
   ],
   "source": [
    "s = li.pop()\n",
    "print(s)"
   ]
  },
  {
   "cell_type": "code",
   "execution_count": 71,
   "id": "8c84d601",
   "metadata": {},
   "outputs": [
    {
     "data": {
      "text/plain": [
       "[8, 9, 10, 1, 3, 4]"
      ]
     },
     "execution_count": 71,
     "metadata": {},
     "output_type": "execute_result"
    }
   ],
   "source": [
    "li"
   ]
  },
  {
   "cell_type": "code",
   "execution_count": 72,
   "id": "90cf55e0",
   "metadata": {},
   "outputs": [
    {
     "name": "stdout",
     "output_type": "stream",
     "text": [
      "4\n"
     ]
    }
   ],
   "source": [
    "s = li.pop()\n",
    "print(s)"
   ]
  },
  {
   "cell_type": "code",
   "execution_count": 73,
   "id": "8896d35c",
   "metadata": {},
   "outputs": [],
   "source": [
    "li =  [8,9,10,1,3,4,5]"
   ]
  },
  {
   "cell_type": "code",
   "execution_count": 74,
   "id": "3e2f4d3e",
   "metadata": {},
   "outputs": [],
   "source": [
    "del li"
   ]
  },
  {
   "cell_type": "code",
   "execution_count": 75,
   "id": "5d10a0f8",
   "metadata": {},
   "outputs": [
    {
     "ename": "NameError",
     "evalue": "name 'li' is not defined",
     "output_type": "error",
     "traceback": [
      "\u001b[1;31m---------------------------------------------------------------------------\u001b[0m",
      "\u001b[1;31mNameError\u001b[0m                                 Traceback (most recent call last)",
      "Input \u001b[1;32mIn [75]\u001b[0m, in \u001b[0;36m<cell line: 1>\u001b[1;34m()\u001b[0m\n\u001b[1;32m----> 1\u001b[0m \u001b[43mli\u001b[49m\n",
      "\u001b[1;31mNameError\u001b[0m: name 'li' is not defined"
     ]
    }
   ],
   "source": [
    "li"
   ]
  },
  {
   "cell_type": "code",
   "execution_count": null,
   "id": "7b4501cb",
   "metadata": {},
   "outputs": [],
   "source": [
    "delete operations in lists\n",
    "sort,index,count in lists\n",
    "insert in lists"
   ]
  },
  {
   "cell_type": "code",
   "execution_count": 77,
   "id": "29a786a5",
   "metadata": {},
   "outputs": [
    {
     "name": "stdout",
     "output_type": "stream",
     "text": [
      "None\n",
      "[]\n"
     ]
    }
   ],
   "source": [
    "fruits = [\"apple\", \"banana\", \"cherry\"]\n",
    "\n",
    "s = fruits.clear()\n",
    "print(s)\n",
    "print(fruits)"
   ]
  },
  {
   "cell_type": "markdown",
   "id": "f1992b0d",
   "metadata": {},
   "source": [
    "### count()\tReturns the number of elements with the specified value"
   ]
  },
  {
   "cell_type": "code",
   "execution_count": 78,
   "id": "30a6b2c6",
   "metadata": {},
   "outputs": [],
   "source": [
    "fruits = ['apple', 'banana', 'cherry', 'cherry', 'cherry', 'cherry', 'cherry', 'cherry', 'cherry']\n",
    "\n",
    "x = fruits.count(\"cherry\")"
   ]
  },
  {
   "cell_type": "code",
   "execution_count": 79,
   "id": "b7bb5c7f",
   "metadata": {
    "scrolled": true
   },
   "outputs": [
    {
     "data": {
      "text/plain": [
       "7"
      ]
     },
     "execution_count": 79,
     "metadata": {},
     "output_type": "execute_result"
    }
   ],
   "source": [
    "x"
   ]
  },
  {
   "cell_type": "code",
   "execution_count": 80,
   "id": "38ae295c",
   "metadata": {},
   "outputs": [],
   "source": [
    "li = [1,2,3,4,2,3,4,2,3,4,2,3,4,2,3,4,2,3,4,2,3,4,2,3,4,2,3,4]"
   ]
  },
  {
   "cell_type": "code",
   "execution_count": 81,
   "id": "0fe7424d",
   "metadata": {},
   "outputs": [],
   "source": [
    "count4 = li.count(4)"
   ]
  },
  {
   "cell_type": "code",
   "execution_count": 82,
   "id": "7750f69c",
   "metadata": {},
   "outputs": [
    {
     "data": {
      "text/plain": [
       "9"
      ]
     },
     "execution_count": 82,
     "metadata": {},
     "output_type": "execute_result"
    }
   ],
   "source": [
    "count4"
   ]
  },
  {
   "cell_type": "code",
   "execution_count": 83,
   "id": "964c4d50",
   "metadata": {},
   "outputs": [],
   "source": [
    "a =[1, 2,3,(1,1,5,6)]                    \n",
    "x = a.count(1)"
   ]
  },
  {
   "cell_type": "code",
   "execution_count": 84,
   "id": "40059c84",
   "metadata": {},
   "outputs": [
    {
     "data": {
      "text/plain": [
       "1"
      ]
     },
     "execution_count": 84,
     "metadata": {},
     "output_type": "execute_result"
    }
   ],
   "source": [
    "x"
   ]
  },
  {
   "cell_type": "code",
   "execution_count": 85,
   "id": "04565aaf",
   "metadata": {},
   "outputs": [],
   "source": [
    "y = a[3].count(1)"
   ]
  },
  {
   "cell_type": "code",
   "execution_count": 86,
   "id": "68ddccfe",
   "metadata": {},
   "outputs": [
    {
     "data": {
      "text/plain": [
       "2"
      ]
     },
     "execution_count": 86,
     "metadata": {},
     "output_type": "execute_result"
    }
   ],
   "source": [
    "y"
   ]
  },
  {
   "cell_type": "code",
   "execution_count": 89,
   "id": "68b79566",
   "metadata": {},
   "outputs": [],
   "source": [
    "x = a.count(1)\n",
    "y = a[3].count(1)\n",
    "z = x + y"
   ]
  },
  {
   "cell_type": "code",
   "execution_count": 90,
   "id": "457e0ca8",
   "metadata": {
    "scrolled": true
   },
   "outputs": [
    {
     "data": {
      "text/plain": [
       "3"
      ]
     },
     "execution_count": 90,
     "metadata": {},
     "output_type": "execute_result"
    }
   ],
   "source": [
    "z"
   ]
  },
  {
   "cell_type": "markdown",
   "id": "4f278561",
   "metadata": {},
   "source": [
    "### copy()\tReturns a copy of the list"
   ]
  },
  {
   "cell_type": "code",
   "execution_count": 91,
   "id": "cb65932e",
   "metadata": {},
   "outputs": [],
   "source": [
    "fruits = ['apple', 'banana', 'cherry', 'orange']\n",
    "\n",
    "x = fruits.copy()"
   ]
  },
  {
   "cell_type": "code",
   "execution_count": 92,
   "id": "363b64f0",
   "metadata": {},
   "outputs": [
    {
     "data": {
      "text/plain": [
       "['apple', 'banana', 'cherry', 'orange']"
      ]
     },
     "execution_count": 92,
     "metadata": {},
     "output_type": "execute_result"
    }
   ],
   "source": [
    "x "
   ]
  },
  {
   "cell_type": "code",
   "execution_count": 93,
   "id": "34cce6a1",
   "metadata": {},
   "outputs": [],
   "source": [
    "fruits = ['apple', 'banana', 'cherry']\n",
    "\n",
    "fruits.reverse()"
   ]
  },
  {
   "cell_type": "code",
   "execution_count": 94,
   "id": "0f849ae0",
   "metadata": {
    "scrolled": true
   },
   "outputs": [
    {
     "data": {
      "text/plain": [
       "['cherry', 'banana', 'apple']"
      ]
     },
     "execution_count": 94,
     "metadata": {},
     "output_type": "execute_result"
    }
   ],
   "source": [
    "fruits"
   ]
  },
  {
   "cell_type": "markdown",
   "id": "cf160838",
   "metadata": {},
   "source": [
    "## reverse()\tReverses the order of the list"
   ]
  },
  {
   "cell_type": "code",
   "execution_count": 95,
   "id": "0b0debd1",
   "metadata": {},
   "outputs": [],
   "source": [
    "li = [1,2,3,4,5,6]\n",
    "li.reverse()"
   ]
  },
  {
   "cell_type": "code",
   "execution_count": 96,
   "id": "1a23bd5d",
   "metadata": {},
   "outputs": [
    {
     "data": {
      "text/plain": [
       "[6, 5, 4, 3, 2, 1]"
      ]
     },
     "execution_count": 96,
     "metadata": {},
     "output_type": "execute_result"
    }
   ],
   "source": [
    "li"
   ]
  },
  {
   "cell_type": "code",
   "execution_count": 97,
   "id": "f1070805",
   "metadata": {},
   "outputs": [
    {
     "data": {
      "text/plain": [
       "99"
      ]
     },
     "execution_count": 97,
     "metadata": {},
     "output_type": "execute_result"
    }
   ],
   "source": [
    "ord('c')"
   ]
  },
  {
   "cell_type": "code",
   "execution_count": 98,
   "id": "cbd50dad",
   "metadata": {},
   "outputs": [
    {
     "data": {
      "text/plain": [
       "67"
      ]
     },
     "execution_count": 98,
     "metadata": {},
     "output_type": "execute_result"
    }
   ],
   "source": [
    "ord('C')"
   ]
  },
  {
   "cell_type": "code",
   "execution_count": 101,
   "id": "2ea2db64",
   "metadata": {},
   "outputs": [],
   "source": [
    "li=[2,1,9,4,7,8]\n",
    "li.reverse()"
   ]
  },
  {
   "cell_type": "code",
   "execution_count": 103,
   "id": "6cf1b27a",
   "metadata": {
    "scrolled": true
   },
   "outputs": [
    {
     "data": {
      "text/plain": [
       "[8, 7, 4, 9, 1, 2]"
      ]
     },
     "execution_count": 103,
     "metadata": {},
     "output_type": "execute_result"
    }
   ],
   "source": [
    "li"
   ]
  },
  {
   "cell_type": "markdown",
   "id": "5d86ef35",
   "metadata": {},
   "source": [
    "## sort()\tSorts the list"
   ]
  },
  {
   "cell_type": "markdown",
   "id": "ef7ec581",
   "metadata": {},
   "source": [
    "### Definition and Usage\n",
    "The sort() method sorts the list ascending by default.\n",
    "\n",
    "You can also make a function to decide the sorting criteria(s).\n",
    "\n",
    "Syntax\n",
    "\n",
    "    list.sort(reverse=True|False, key=myFunc)\n",
    "    \n",
    "reverse\tOptional. reverse=True will sort the list descending. Default is reverse=False\n",
    "\n",
    "\n",
    "key\tOptional. A function to specify the sorting criteria(s)"
   ]
  },
  {
   "cell_type": "code",
   "execution_count": 106,
   "id": "dc7a0b9e",
   "metadata": {},
   "outputs": [],
   "source": [
    "fruits = ['cherry','banana','apple',]\n",
    "\n",
    "fruits.sort()"
   ]
  },
  {
   "cell_type": "code",
   "execution_count": 107,
   "id": "55a54675",
   "metadata": {},
   "outputs": [
    {
     "data": {
      "text/plain": [
       "['apple', 'banana', 'cherry']"
      ]
     },
     "execution_count": 107,
     "metadata": {},
     "output_type": "execute_result"
    }
   ],
   "source": [
    "fruits"
   ]
  },
  {
   "cell_type": "code",
   "execution_count": 108,
   "id": "4febb392",
   "metadata": {},
   "outputs": [],
   "source": [
    "fruits = ['cherry','banana','apple','aaple']\n",
    "\n",
    "fruits.sort()"
   ]
  },
  {
   "cell_type": "code",
   "execution_count": 109,
   "id": "7d811681",
   "metadata": {},
   "outputs": [
    {
     "data": {
      "text/plain": [
       "['aaple', 'apple', 'banana', 'cherry']"
      ]
     },
     "execution_count": 109,
     "metadata": {},
     "output_type": "execute_result"
    }
   ],
   "source": [
    "fruits"
   ]
  },
  {
   "cell_type": "code",
   "execution_count": 110,
   "id": "45d7b00c",
   "metadata": {
    "scrolled": true
   },
   "outputs": [
    {
     "data": {
      "text/plain": [
       "[1, 2, 2, 3, 4, 4, 5, 6, 7]"
      ]
     },
     "execution_count": 110,
     "metadata": {},
     "output_type": "execute_result"
    }
   ],
   "source": [
    "li = [4,5,6,7,2,1,2,3,4]\n",
    "li.sort()\n",
    "li"
   ]
  },
  {
   "cell_type": "code",
   "execution_count": 112,
   "id": "c838050e",
   "metadata": {},
   "outputs": [
    {
     "data": {
      "text/plain": [
       "[7, 6, 5, 4, 4, 3, 2, 2, 1]"
      ]
     },
     "execution_count": 112,
     "metadata": {},
     "output_type": "execute_result"
    }
   ],
   "source": [
    "li = [4,5,6,7,2,1,2,3,4]\n",
    "li.sort(reverse=True)\n",
    "li\n"
   ]
  },
  {
   "cell_type": "code",
   "execution_count": 113,
   "id": "fba4dfc3",
   "metadata": {},
   "outputs": [],
   "source": [
    "fruits = ['apple', 'banana', 'cherry', 'orange']"
   ]
  },
  {
   "cell_type": "code",
   "execution_count": 115,
   "id": "b2cbd0d9",
   "metadata": {},
   "outputs": [
    {
     "data": {
      "text/plain": [
       "4"
      ]
     },
     "execution_count": 115,
     "metadata": {},
     "output_type": "execute_result"
    }
   ],
   "source": [
    "len(fruits)"
   ]
  },
  {
   "cell_type": "code",
   "execution_count": 116,
   "id": "4dbcaf89",
   "metadata": {},
   "outputs": [
    {
     "name": "stdout",
     "output_type": "stream",
     "text": [
      "apple\n",
      "banana\n",
      "cherry\n",
      "orange\n"
     ]
    }
   ],
   "source": [
    "for ele in range(0, len(fruits) , 1):\n",
    "    print(fruits[ele])"
   ]
  },
  {
   "cell_type": "code",
   "execution_count": 117,
   "id": "6e2ae132",
   "metadata": {},
   "outputs": [
    {
     "name": "stdout",
     "output_type": "stream",
     "text": [
      "apple\n",
      "banana\n",
      "cherry\n",
      "orange\n"
     ]
    }
   ],
   "source": [
    "for ele in fruits:\n",
    "    print(ele)"
   ]
  },
  {
   "cell_type": "code",
   "execution_count": 118,
   "id": "d6a14725",
   "metadata": {},
   "outputs": [],
   "source": [
    "fruits = ['apple', 'banana', 'cherry', 'orange']"
   ]
  },
  {
   "cell_type": "code",
   "execution_count": 119,
   "id": "cec6966f",
   "metadata": {},
   "outputs": [
    {
     "name": "stdout",
     "output_type": "stream",
     "text": [
      "banana\n",
      "cherry\n"
     ]
    }
   ],
   "source": [
    "for ele in fruits[1:3]:\n",
    "    print(ele)"
   ]
  },
  {
   "cell_type": "code",
   "execution_count": 120,
   "id": "dca334fa",
   "metadata": {},
   "outputs": [
    {
     "name": "stdout",
     "output_type": "stream",
     "text": [
      "banana\n",
      "cherry\n"
     ]
    }
   ],
   "source": [
    "for ele in range(1,3):\n",
    "    print(fruits[ele])\n",
    "    "
   ]
  },
  {
   "cell_type": "code",
   "execution_count": null,
   "id": "4d2fc8f9",
   "metadata": {},
   "outputs": [],
   "source": []
  }
 ],
 "metadata": {
  "kernelspec": {
   "display_name": "Python 3 (ipykernel)",
   "language": "python",
   "name": "python3"
  },
  "language_info": {
   "codemirror_mode": {
    "name": "ipython",
    "version": 3
   },
   "file_extension": ".py",
   "mimetype": "text/x-python",
   "name": "python",
   "nbconvert_exporter": "python",
   "pygments_lexer": "ipython3",
   "version": "3.9.12"
  }
 },
 "nbformat": 4,
 "nbformat_minor": 5
}
