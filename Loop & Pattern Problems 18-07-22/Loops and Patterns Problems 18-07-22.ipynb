{
 "cells": [
  {
   "cell_type": "markdown",
   "id": "285125ed",
   "metadata": {},
   "source": [
    "# `While Loop`"
   ]
  },
  {
   "cell_type": "code",
   "execution_count": 4,
   "id": "d390a444",
   "metadata": {},
   "outputs": [
    {
     "name": "stdout",
     "output_type": "stream",
     "text": [
      "1\n",
      "1\n",
      "1\n",
      "1\n",
      "1\n",
      "1\n",
      "1\n",
      "1\n",
      "1\n",
      "1\n"
     ]
    }
   ],
   "source": [
    "print(1)\n",
    "print(1)\n",
    "print(1)\n",
    "print(1)\n",
    "print(1)\n",
    "print(1)\n",
    "print(1)\n",
    "print(1)\n",
    "print(1)\n",
    "print(1)"
   ]
  },
  {
   "cell_type": "code",
   "execution_count": 1,
   "id": "890a7677",
   "metadata": {
    "scrolled": true
   },
   "outputs": [
    {
     "name": "stdout",
     "output_type": "stream",
     "text": [
      "5\n",
      "1\n",
      "1\n",
      "1\n",
      "1\n",
      "1\n"
     ]
    }
   ],
   "source": [
    "n = int(input())\n",
    "count = 0\n",
    "while count < n:\n",
    "    print(1)\n",
    "    count += 1\n",
    "#     count = count + 1"
   ]
  },
  {
   "cell_type": "code",
   "execution_count": 4,
   "id": "370f3f62",
   "metadata": {},
   "outputs": [
    {
     "name": "stdout",
     "output_type": "stream",
     "text": [
      "Rahul Sir Please Enter your number: 5\n",
      "1\n",
      "2\n",
      "3\n",
      "4\n",
      "5\n"
     ]
    }
   ],
   "source": [
    "# print first n Natural numbers\n",
    "\n",
    "n = int(input(\"Rahul Sir Please Enter your number: \"))\n",
    "count = 1\n",
    "while count <= n:\n",
    "    print(count)\n",
    "    count += 1 # it is equivalent to count = count + 1"
   ]
  },
  {
   "cell_type": "code",
   "execution_count": 6,
   "id": "b0bc3eb3",
   "metadata": {},
   "outputs": [
    {
     "name": "stdout",
     "output_type": "stream",
     "text": [
      "5\n",
      "15\n"
     ]
    }
   ],
   "source": [
    "n = int(input())\n",
    "sum = 0\n",
    "counter = 1\n",
    "while counter <= n:\n",
    "    sum += counter\n",
    "    counter += 1\n",
    "    \n",
    "print(sum)"
   ]
  },
  {
   "cell_type": "code",
   "execution_count": 8,
   "id": "21e80818",
   "metadata": {},
   "outputs": [
    {
     "name": "stdout",
     "output_type": "stream",
     "text": [
      "50\n",
      "1275\n"
     ]
    }
   ],
   "source": [
    "n = int(input())\n",
    "sum = 0\n",
    "counter = 1\n",
    "while counter <= n:\n",
    "    sum += counter\n",
    "    counter += 1\n",
    "print(sum)"
   ]
  },
  {
   "cell_type": "code",
   "execution_count": 9,
   "id": "e769180a",
   "metadata": {},
   "outputs": [
    {
     "name": "stdout",
     "output_type": "stream",
     "text": [
      "50\n"
     ]
    },
    {
     "data": {
      "text/plain": [
       "1275"
      ]
     },
     "execution_count": 9,
     "metadata": {},
     "output_type": "execute_result"
    }
   ],
   "source": [
    "n = int(input())\n",
    "sum = (n*(n + 1))//2\n",
    "sum"
   ]
  },
  {
   "cell_type": "code",
   "execution_count": 11,
   "id": "58db4343",
   "metadata": {},
   "outputs": [
    {
     "name": "stdout",
     "output_type": "stream",
     "text": [
      "5\n",
      "6\n"
     ]
    }
   ],
   "source": [
    "# sum of Even n natural number\n",
    "\n",
    "n = int(input())\n",
    "even_sum = 0\n",
    "counter = 1\n",
    "while counter <= n:\n",
    "    if counter %2 == 0:\n",
    "        even_sum += counter\n",
    "    counter += 1\n",
    "    \n",
    "print(even_sum)"
   ]
  },
  {
   "cell_type": "markdown",
   "id": "8f2f8862",
   "metadata": {},
   "source": [
    "# `Check Prime`"
   ]
  },
  {
   "cell_type": "code",
   "execution_count": 15,
   "id": "8362a64c",
   "metadata": {},
   "outputs": [
    {
     "name": "stdout",
     "output_type": "stream",
     "text": [
      "4\n",
      "Not Prime\n"
     ]
    }
   ],
   "source": [
    "n = int(input())\n",
    "d = 2\n",
    "suraj = False\n",
    "while d < n:\n",
    "    if (n % d == 0):\n",
    "        suraj = True\n",
    "    d += 1\n",
    "\n",
    "if suraj:\n",
    "    print(\"Not Prime\")\n",
    "else:\n",
    "    print(\"Yes it is Prime Number\")"
   ]
  },
  {
   "cell_type": "markdown",
   "id": "e23551fe",
   "metadata": {},
   "source": [
    "# `Nested Loop`"
   ]
  },
  {
   "cell_type": "code",
   "execution_count": 17,
   "id": "07141d2d",
   "metadata": {
    "scrolled": true
   },
   "outputs": [
    {
     "name": "stdout",
     "output_type": "stream",
     "text": [
      "5\n",
      "2\n",
      "3\n",
      "5\n"
     ]
    }
   ],
   "source": [
    "n = int(input())\n",
    "outer = 2\n",
    "while outer <= n:\n",
    "    d = 2\n",
    "    flag = False\n",
    "    while d < outer:   \n",
    "        if (outer % d == 0):\n",
    "            flag = True\n",
    "        d += 1\n",
    "\n",
    "    if not(flag):\n",
    "        print(outer)\n",
    "    \n",
    "    outer = outer + 1"
   ]
  },
  {
   "cell_type": "markdown",
   "id": "3982e2e8",
   "metadata": {},
   "source": [
    "# `Patterns Problems`"
   ]
  },
  {
   "cell_type": "code",
   "execution_count": null,
   "id": "7bc84a7e",
   "metadata": {},
   "outputs": [],
   "source": [
    "N = 3\n",
    "\n",
    "***\n",
    "***\n",
    "***\n",
    "\n",
    "\n",
    "N = 4\n",
    "\n",
    "****\n",
    "****\n",
    "****\n",
    "****\n",
    "\n",
    "N = 5\n",
    "\n",
    "*****\n",
    "*****\n",
    "*****\n",
    "*****\n",
    "*****\n"
   ]
  },
  {
   "cell_type": "code",
   "execution_count": 21,
   "id": "42e08127",
   "metadata": {},
   "outputs": [
    {
     "name": "stdout",
     "output_type": "stream",
     "text": [
      "5\n",
      "*****\n",
      "*****\n",
      "*****\n",
      "*****\n",
      "*****\n"
     ]
    }
   ],
   "source": [
    "# code\n",
    "n = int(input())\n",
    "row = 1\n",
    "while row <= n:\n",
    "    col = 1\n",
    "    while col <= n:\n",
    "        print('*', end = '')\n",
    "        col += 1\n",
    "    print()\n",
    "    row += 1"
   ]
  },
  {
   "cell_type": "markdown",
   "id": "64003429",
   "metadata": {},
   "source": [
    "# `For Loop`"
   ]
  },
  {
   "cell_type": "code",
   "execution_count": 22,
   "id": "75522016",
   "metadata": {},
   "outputs": [
    {
     "name": "stdout",
     "output_type": "stream",
     "text": [
      "D\n",
      "e\n",
      "e\n",
      "p\n",
      "a\n",
      "k\n"
     ]
    }
   ],
   "source": [
    "s = \"Deepak\"\n",
    "for ch in s:\n",
    "    print(ch)"
   ]
  },
  {
   "cell_type": "code",
   "execution_count": 23,
   "id": "9122389a",
   "metadata": {},
   "outputs": [
    {
     "name": "stdout",
     "output_type": "stream",
     "text": [
      "5\n",
      "1\n",
      "2\n",
      "3\n",
      "4\n"
     ]
    }
   ],
   "source": [
    "#print num from 1 to n\n",
    "\n",
    "n = int(input())\n",
    "for i in range(1 , n , 1):\n",
    "    print(i)"
   ]
  },
  {
   "cell_type": "code",
   "execution_count": 24,
   "id": "c6fdf4c5",
   "metadata": {},
   "outputs": [
    {
     "name": "stdout",
     "output_type": "stream",
     "text": [
      "5\n",
      "1\n",
      "2\n",
      "3\n",
      "4\n",
      "5\n"
     ]
    }
   ],
   "source": [
    "#print num from 1 to n\n",
    "\n",
    "n = int(input())\n",
    "for i in range(1 , n + 1, 1):\n",
    "    print(i)"
   ]
  },
  {
   "cell_type": "code",
   "execution_count": 25,
   "id": "ca74beab",
   "metadata": {},
   "outputs": [
    {
     "name": "stdout",
     "output_type": "stream",
     "text": [
      "5\n",
      "0\n",
      "1\n",
      "2\n",
      "3\n",
      "4\n",
      "5\n"
     ]
    }
   ],
   "source": [
    "#print num from 1 to n\n",
    "\n",
    "n = int(input())\n",
    "for i in range(n + 1):\n",
    "    print(i)"
   ]
  },
  {
   "cell_type": "code",
   "execution_count": 26,
   "id": "a9feeccd",
   "metadata": {},
   "outputs": [
    {
     "name": "stdout",
     "output_type": "stream",
     "text": [
      "5\n",
      "1\n",
      "2\n",
      "3\n",
      "4\n",
      "5\n"
     ]
    }
   ],
   "source": [
    "#print num from 1 to n\n",
    "\n",
    "n = int(input())\n",
    "for i in range(1,n + 1):\n",
    "    print(i)"
   ]
  },
  {
   "cell_type": "code",
   "execution_count": 28,
   "id": "02e910e9",
   "metadata": {},
   "outputs": [
    {
     "name": "stdout",
     "output_type": "stream",
     "text": [
      "15\n",
      "1\n",
      "3\n",
      "5\n",
      "7\n",
      "9\n",
      "11\n",
      "13\n",
      "15\n"
     ]
    }
   ],
   "source": [
    "#print num from 1 to n\n",
    "\n",
    "n = int(input())\n",
    "for i in range(1,n + 1, 2):\n",
    "    print(i)"
   ]
  },
  {
   "cell_type": "code",
   "execution_count": 29,
   "id": "6e025f90",
   "metadata": {
    "scrolled": true
   },
   "outputs": [
    {
     "name": "stdout",
     "output_type": "stream",
     "text": [
      "10\n",
      "3\n",
      "6\n",
      "9\n"
     ]
    }
   ],
   "source": [
    "#print num from 1 to n\n",
    "\n",
    "n = int(input())\n",
    "for i in range(3,n + 1, 3):\n",
    "    print(i)"
   ]
  },
  {
   "cell_type": "code",
   "execution_count": null,
   "id": "6c91f351",
   "metadata": {},
   "outputs": [],
   "source": [
    "N = 3\n",
    "\n",
    "***\n",
    "***\n",
    "***"
   ]
  },
  {
   "cell_type": "code",
   "execution_count": 31,
   "id": "ed76ca57",
   "metadata": {},
   "outputs": [
    {
     "name": "stdout",
     "output_type": "stream",
     "text": [
      "4\n",
      "****\n",
      "****\n",
      "****\n",
      "****\n"
     ]
    }
   ],
   "source": [
    "n = int(input())\n",
    "for row in range(1,n + 1):\n",
    "    for col in range(1 , n + 1):\n",
    "        print(\"*\",end=\"\")\n",
    "    print()"
   ]
  },
  {
   "cell_type": "code",
   "execution_count": null,
   "id": "405c0a7d",
   "metadata": {},
   "outputs": [],
   "source": [
    "N = 4\n",
    "\n",
    "1111\n",
    "2222\n",
    "3333\n",
    "4444"
   ]
  },
  {
   "cell_type": "code",
   "execution_count": 32,
   "id": "1a8377ee",
   "metadata": {},
   "outputs": [
    {
     "name": "stdout",
     "output_type": "stream",
     "text": [
      "5\n",
      "11111\n",
      "22222\n",
      "33333\n",
      "44444\n",
      "55555\n"
     ]
    }
   ],
   "source": [
    "# code\n",
    "n = int(input())\n",
    "row = 1\n",
    "while row <= n:\n",
    "    col = 1\n",
    "    while col <= n:\n",
    "        print(row, end = '')\n",
    "        col += 1\n",
    "    print()\n",
    "    row += 1"
   ]
  },
  {
   "cell_type": "code",
   "execution_count": 33,
   "id": "47373aca",
   "metadata": {},
   "outputs": [
    {
     "name": "stdout",
     "output_type": "stream",
     "text": [
      "4\n",
      "1111\n",
      "2222\n",
      "3333\n",
      "4444\n"
     ]
    }
   ],
   "source": [
    "n = int(input())\n",
    "for row in range(1,n + 1):\n",
    "    for col in range(1 , n + 1):\n",
    "        print(row,end=\"\")\n",
    "    print()"
   ]
  },
  {
   "cell_type": "code",
   "execution_count": null,
   "id": "4b3d3157",
   "metadata": {},
   "outputs": [],
   "source": [
    "N = 4\n",
    "\n",
    "1234\n",
    "1234\n",
    "1234\n",
    "1234"
   ]
  },
  {
   "cell_type": "code",
   "execution_count": 35,
   "id": "874b4054",
   "metadata": {},
   "outputs": [
    {
     "name": "stdout",
     "output_type": "stream",
     "text": [
      "2\n",
      "1 2 \n",
      "1 2 \n"
     ]
    }
   ],
   "source": [
    "# code\n",
    "n = int(input())\n",
    "row = 1\n",
    "while row <= n:\n",
    "    col = 1\n",
    "    while col <= n: \n",
    "        print(col, end = ' ')\n",
    "        col += 1\n",
    "    print()\n",
    "    row += 1"
   ]
  },
  {
   "cell_type": "code",
   "execution_count": 37,
   "id": "ba243fb1",
   "metadata": {},
   "outputs": [
    {
     "name": "stdout",
     "output_type": "stream",
     "text": [
      "2\n",
      "1 2 \n",
      "1 2 \n"
     ]
    }
   ],
   "source": [
    "n = int(input())\n",
    "for row in range(1,n + 1):\n",
    "    for col in range(1 , n + 1):\n",
    "        print(col,end=\" \")\n",
    "    print()"
   ]
  },
  {
   "cell_type": "code",
   "execution_count": null,
   "id": "6a888db8",
   "metadata": {},
   "outputs": [],
   "source": [
    "N = 4\n",
    "\n",
    "4444\n",
    "4444\n",
    "4444\n",
    "4444"
   ]
  },
  {
   "cell_type": "code",
   "execution_count": 39,
   "id": "8f658180",
   "metadata": {},
   "outputs": [
    {
     "name": "stdout",
     "output_type": "stream",
     "text": [
      "3\n",
      "3 3 3 \n",
      "3 3 3 \n",
      "3 3 3 \n"
     ]
    }
   ],
   "source": [
    "# code\n",
    "n = int(input())\n",
    "row = 1\n",
    "while row <= n:\n",
    "    col = 1\n",
    "    while col <= n: \n",
    "        print(n, end = ' ')\n",
    "        col += 1\n",
    "    print()\n",
    "    row += 1"
   ]
  },
  {
   "cell_type": "code",
   "execution_count": 40,
   "id": "17885eb9",
   "metadata": {},
   "outputs": [
    {
     "name": "stdout",
     "output_type": "stream",
     "text": [
      "3\n",
      "3 3 3 \n",
      "3 3 3 \n",
      "3 3 3 \n"
     ]
    }
   ],
   "source": [
    "n = int(input())\n",
    "for row in range(1,n + 1):\n",
    "    for col in range(1 , n + 1):\n",
    "        print(n,end=\" \")\n",
    "    print()"
   ]
  },
  {
   "cell_type": "code",
   "execution_count": null,
   "id": "6f276a05",
   "metadata": {},
   "outputs": [],
   "source": [
    "N = 4\n",
    "\n",
    "4321\n",
    "4321\n",
    "4321\n",
    "4321"
   ]
  },
  {
   "cell_type": "code",
   "execution_count": 41,
   "id": "3b43acc8",
   "metadata": {},
   "outputs": [
    {
     "name": "stdout",
     "output_type": "stream",
     "text": [
      "4\n",
      "4 3 2 1 \n",
      "4 3 2 1 \n",
      "4 3 2 1 \n",
      "4 3 2 1 \n"
     ]
    }
   ],
   "source": [
    "# code\n",
    "n = int(input())\n",
    "row = 1\n",
    "while row <= n:\n",
    "    col = 1\n",
    "    while col <= n: \n",
    "        print(n - col + 1, end = ' ')\n",
    "        col += 1\n",
    "    print()\n",
    "    row += 1"
   ]
  },
  {
   "cell_type": "code",
   "execution_count": 42,
   "id": "3bd506c5",
   "metadata": {},
   "outputs": [
    {
     "name": "stdout",
     "output_type": "stream",
     "text": [
      "4\n",
      "4 3 2 1 \n",
      "4 3 2 1 \n",
      "4 3 2 1 \n",
      "4 3 2 1 \n"
     ]
    }
   ],
   "source": [
    "n = int(input())\n",
    "for row in range(1,n + 1):\n",
    "    for col in range(1 , n + 1):\n",
    "        print(n - col + 1,end=\" \")\n",
    "    print()"
   ]
  },
  {
   "cell_type": "code",
   "execution_count": 43,
   "id": "949311ac",
   "metadata": {},
   "outputs": [
    {
     "name": "stdout",
     "output_type": "stream",
     "text": [
      "4\n",
      "4 3 2 1 \n",
      "4 3 2 1 \n",
      "4 3 2 1 \n",
      "4 3 2 1 \n"
     ]
    }
   ],
   "source": [
    "# code\n",
    "n = int(input())\n",
    "row = 1\n",
    "while row <= n:\n",
    "    col = n\n",
    "    while col > 0: \n",
    "        print(col, end = ' ')\n",
    "        col -= 1\n",
    "    print()\n",
    "    row += 1"
   ]
  },
  {
   "cell_type": "code",
   "execution_count": 44,
   "id": "8a550e9a",
   "metadata": {},
   "outputs": [
    {
     "name": "stdout",
     "output_type": "stream",
     "text": [
      "4\n",
      "4 3 2 1 \n",
      "4 3 2 1 \n",
      "4 3 2 1 \n",
      "4 3 2 1 \n"
     ]
    }
   ],
   "source": [
    "n = int(input())\n",
    "for row in range(1,n + 1):\n",
    "    for col in range(n , 0 ,-1):\n",
    "        print(col,end=\" \")\n",
    "    print()"
   ]
  },
  {
   "cell_type": "code",
   "execution_count": null,
   "id": "e647a17b",
   "metadata": {},
   "outputs": [],
   "source": [
    "N = 4\n",
    "\n",
    "*\n",
    "**\n",
    "***\n",
    "****"
   ]
  },
  {
   "cell_type": "code",
   "execution_count": 45,
   "id": "b4b2464c",
   "metadata": {},
   "outputs": [
    {
     "name": "stdout",
     "output_type": "stream",
     "text": [
      "5\n",
      "* \n",
      "* * \n",
      "* * * \n",
      "* * * * \n",
      "* * * * * \n"
     ]
    }
   ],
   "source": [
    "# code\n",
    "n = int(input())\n",
    "row = 1\n",
    "while row <= n:\n",
    "    col = 1\n",
    "    while col <= row: \n",
    "        print(\"*\", end = ' ')\n",
    "        col += 1\n",
    "    print()\n",
    "    row += 1"
   ]
  },
  {
   "cell_type": "code",
   "execution_count": 47,
   "id": "e1278dd3",
   "metadata": {},
   "outputs": [
    {
     "name": "stdout",
     "output_type": "stream",
     "text": [
      "4\n",
      "* \n",
      "* * \n",
      "* * * \n",
      "* * * * \n"
     ]
    }
   ],
   "source": [
    "n = int(input())\n",
    "for row in range(1,n + 1):\n",
    "    for col in range(1 , row + 1):\n",
    "        print(\"*\",end=\" \")\n",
    "    print()"
   ]
  },
  {
   "cell_type": "code",
   "execution_count": null,
   "id": "9d642161",
   "metadata": {},
   "outputs": [],
   "source": [
    "N = 4\n",
    "\n",
    "1\n",
    "12\n",
    "123\n",
    "1234"
   ]
  },
  {
   "cell_type": "code",
   "execution_count": 48,
   "id": "cd9a8567",
   "metadata": {},
   "outputs": [
    {
     "name": "stdout",
     "output_type": "stream",
     "text": [
      "4\n",
      "1\n",
      "12\n",
      "123\n",
      "1234\n"
     ]
    }
   ],
   "source": [
    "n = int(input())\n",
    "i = 1\n",
    "while i <= n:\n",
    "    j = 1\n",
    "    while j <= i:\n",
    "        print(j, end=\"\")\n",
    "        j = j + 1\n",
    "    print()\n",
    "    i = i + 1    "
   ]
  }
 ],
 "metadata": {
  "kernelspec": {
   "display_name": "Python 3 (ipykernel)",
   "language": "python",
   "name": "python3"
  },
  "language_info": {
   "codemirror_mode": {
    "name": "ipython",
    "version": 3
   },
   "file_extension": ".py",
   "mimetype": "text/x-python",
   "name": "python",
   "nbconvert_exporter": "python",
   "pygments_lexer": "ipython3",
   "version": "3.9.12"
  }
 },
 "nbformat": 4,
 "nbformat_minor": 5
}
